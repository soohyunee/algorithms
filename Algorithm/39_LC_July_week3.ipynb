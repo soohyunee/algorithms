{
 "cells": [
  {
   "cell_type": "markdown",
   "metadata": {},
   "source": [
    "### Reverse words in a String (07/18)\n",
    "https://leetcode.com/problems/reverse-words-in-a-string/"
   ]
  },
  {
   "cell_type": "code",
   "execution_count": 1,
   "metadata": {},
   "outputs": [],
   "source": [
    "# time complexity : O(N)\n",
    "# space complexity : O(N)\n",
    "def reverseWords(s: str) -> str:\n",
    "    s = reversed(s.split())\n",
    "    tmp = ''\n",
    "    white_space = ' '\n",
    "    for i in s:\n",
    "        tmp += white_space + i\n",
    "        \n",
    "    return tmp.strip()"
   ]
  },
  {
   "cell_type": "markdown",
   "metadata": {},
   "source": [
    "### Pow(x, n)   (07/18)\n",
    "https://leetcode.com/problems/powx-n/"
   ]
  },
  {
   "cell_type": "code",
   "execution_count": null,
   "metadata": {},
   "outputs": [],
   "source": [
    "# time complexity : O(1)     # Python pow()의 time complexity\n",
    "# space complexity : O(1)\n",
    "\n",
    "def myPow(x: float, n: int) -> float:\n",
    "    if n < 0:\n",
    "        x = 1/x\n",
    "        n = abs(n)\n",
    "\n",
    "    else:\n",
    "        pass\n",
    "\n",
    "    return pow(x, n)"
   ]
  },
  {
   "cell_type": "markdown",
   "metadata": {},
   "source": [
    "### Top K frequent elements (07/21)\n",
    "https://leetcode.com/problems/top-k-frequent-elements/<br>"
   ]
  },
  {
   "cell_type": "markdown",
   "metadata": {},
   "source": [
    "Counter()와 .most_common() 관련 Time complexity reference :<br>\n",
    "https://stackoverflow.com/questions/29240807/python-collections-counter-most-common-complexity"
   ]
  },
  {
   "cell_type": "code",
   "execution_count": 2,
   "metadata": {},
   "outputs": [],
   "source": [
    "# time complexity : O(N log K)\n",
    "# space complexity : O(N)\n",
    "\n",
    "from typing import List\n",
    "def topKFrequent(nums: List[int], k: int) -> List[int]:\n",
    "        if len(set(nums)) == k:\n",
    "            return [x for x in set(nums)]\n",
    "        \n",
    "        from collections import Counter\n",
    "        nums = Counter(nums)\n",
    "        return [x[0] for x in nums.most_common(n=k)]"
   ]
  },
  {
   "cell_type": "code",
   "execution_count": 4,
   "metadata": {},
   "outputs": [
    {
     "data": {
      "text/plain": [
       "[-1]"
      ]
     },
     "execution_count": 4,
     "metadata": {},
     "output_type": "execute_result"
    }
   ],
   "source": [
    "c = [-1,-1]\n",
    "topKFrequent(c, k=1)"
   ]
  },
  {
   "cell_type": "code",
   "execution_count": 5,
   "metadata": {},
   "outputs": [
    {
     "data": {
      "text/plain": [
       "[-1, 2]"
      ]
     },
     "execution_count": 5,
     "metadata": {},
     "output_type": "execute_result"
    }
   ],
   "source": [
    "d = [4,1,-1,2,-1,2,3]\n",
    "topKFrequent(d, k=2)"
   ]
  },
  {
   "cell_type": "code",
   "execution_count": 6,
   "metadata": {},
   "outputs": [
    {
     "data": {
      "text/plain": [
       "[1, 2, 3]"
      ]
     },
     "execution_count": 6,
     "metadata": {},
     "output_type": "execute_result"
    }
   ],
   "source": [
    "e = [1,1,1,2,2,2,3,3,3]\n",
    "topKFrequent(e, k=3)"
   ]
  }
 ],
 "metadata": {
  "kernelspec": {
   "display_name": "Python 3",
   "language": "python",
   "name": "python3"
  },
  "language_info": {
   "codemirror_mode": {
    "name": "ipython",
    "version": 3
   },
   "file_extension": ".py",
   "mimetype": "text/x-python",
   "name": "python",
   "nbconvert_exporter": "python",
   "pygments_lexer": "ipython3",
   "version": "3.7.6"
  }
 },
 "nbformat": 4,
 "nbformat_minor": 4
}
