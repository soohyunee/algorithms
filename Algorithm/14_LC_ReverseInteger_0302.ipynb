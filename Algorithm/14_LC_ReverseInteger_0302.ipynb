{
 "cells": [
  {
   "cell_type": "markdown",
   "metadata": {},
   "source": [
    "https://leetcode.com/explore/featured/card/top-interview-questions-easy/127/strings/880/"
   ]
  },
  {
   "cell_type": "code",
   "execution_count": 2,
   "metadata": {},
   "outputs": [],
   "source": [
    "from typing import List"
   ]
  },
  {
   "cell_type": "code",
   "execution_count": 3,
   "metadata": {},
   "outputs": [],
   "source": [
    "def reverse(x: int) -> int:\n",
    "    negative = False\n",
    "    if x >= 0:\n",
    "        x = str(x)\n",
    "\n",
    "    else:\n",
    "        negative = True\n",
    "        x = str(x)[1:]\n",
    "\n",
    "    len_x = len(x)\n",
    "    x = list(x)\n",
    "    for i in reversed(x):\n",
    "        x.extend(i)\n",
    "\n",
    "    del x[:len_x]\n",
    "    x = int(''.join(i for i in x))\n",
    "\n",
    "    if negative:\n",
    "        x = -x\n",
    "\n",
    "    if (-2**31 > x) or (2**31-1 < x):\n",
    "        return 0\n",
    "    \n",
    "    return x"
   ]
  },
  {
   "cell_type": "code",
   "execution_count": 4,
   "metadata": {},
   "outputs": [
    {
     "data": {
      "text/plain": [
       "-321"
      ]
     },
     "execution_count": 4,
     "metadata": {},
     "output_type": "execute_result"
    }
   ],
   "source": [
    "reverse(-123)"
   ]
  },
  {
   "cell_type": "code",
   "execution_count": 5,
   "metadata": {},
   "outputs": [
    {
     "data": {
      "text/plain": [
       "21"
      ]
     },
     "execution_count": 5,
     "metadata": {},
     "output_type": "execute_result"
    }
   ],
   "source": [
    "reverse(120)"
   ]
  },
  {
   "cell_type": "markdown",
   "metadata": {},
   "source": [
    "10이나 100으로 나눠서 풀기"
   ]
  },
  {
   "cell_type": "code",
   "execution_count": null,
   "metadata": {},
   "outputs": [],
   "source": [
    "# def reverse(x: int) -> int:\n",
    "#     negative = False\n",
    "#     if x < 0:\n",
    "#         negative = True\n",
    "    \n",
    "#     quotient, remainder = divmod(x, 10)\n",
    "    \n",
    "#     if (quotient > 10) or (remainder > 10):\n",
    "        "
   ]
  }
 ],
 "metadata": {
  "kernelspec": {
   "display_name": "Python 3",
   "language": "python",
   "name": "python3"
  },
  "language_info": {
   "codemirror_mode": {
    "name": "ipython",
    "version": 3
   },
   "file_extension": ".py",
   "mimetype": "text/x-python",
   "name": "python",
   "nbconvert_exporter": "python",
   "pygments_lexer": "ipython3",
   "version": "3.7.3"
  }
 },
 "nbformat": 4,
 "nbformat_minor": 2
}
