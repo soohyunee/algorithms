{
 "cells": [
  {
   "cell_type": "markdown",
   "metadata": {},
   "source": [
    "### Middle of the Linked List (03/07)\n",
    "https://leetcode.com/problems/middle-of-the-linked-list/submissions/"
   ]
  },
  {
   "cell_type": "code",
   "execution_count": null,
   "metadata": {},
   "outputs": [],
   "source": [
    "## Runtime: 28ms / faster than 83.72%\n",
    "## Memory usage: 14.4 mb / less than 13.48%\n",
    "\n",
    "# Definition for singly-linked list.\n",
    "# class ListNode:\n",
    "#     def __init__(self, val=0, next=None):\n",
    "#         self.val = val\n",
    "#         self.next = next\n",
    "class Solution:\n",
    "    def middleNode(self, head: ListNode) -> ListNode:\n",
    "        slow_cursor = fast_cursor = head\n",
    "        \n",
    "        if not head.next:\n",
    "            return head\n",
    "        \n",
    "        while fast_cursor and fast_cursor.next:\n",
    "            slow_cursor = slow_cursor.next\n",
    "            fast_cursor = fast_cursor.next.next\n",
    "        return slow_cursor"
   ]
  },
  {
   "cell_type": "markdown",
   "metadata": {},
   "source": [
    "### Sum of Unique Elements (3/17)\n",
    "https://leetcode.com/problems/sum-of-unique-elements/"
   ]
  },
  {
   "cell_type": "code",
   "execution_count": null,
   "metadata": {},
   "outputs": [],
   "source": [
    "## Runtime: 24ms / faster than 99.10%\n",
    "## Memory usage: 14.3mb / less than 47.78%\n",
    "from typing import List\n",
    "def sumOfUnique(nums: List[int]) -> int:\n",
    "    from collections import Counter\n",
    "    cnt_nums = Counter(nums)\n",
    "    res = [k for k,v in cnt_nums.items() if v == 1]\n",
    "    return sum(res)"
   ]
  },
  {
   "cell_type": "code",
   "execution_count": null,
   "metadata": {},
   "outputs": [],
   "source": [
    "a = [1,2,3,2]\n",
    "sumOfUnique(a) # 4"
   ]
  },
  {
   "cell_type": "markdown",
   "metadata": {},
   "source": [
    "### Maximum Number of Balls in a Box (3/18)\n",
    "https://leetcode.com/problems/maximum-number-of-balls-in-a-box/"
   ]
  },
  {
   "cell_type": "code",
   "execution_count": null,
   "metadata": {},
   "outputs": [],
   "source": [
    "## Runtime: 788ms / faster than 30.09%\n",
    "## Memory Usage: 17.7mb / less than 6.07%\n",
    "def countBalls(lowLimit: int, highLimit: int) -> int:\n",
    "    nums = []\n",
    "    boxes = [0] * 46 # 100000 인풋이 최대치이므로, 총합 46을 넘어가지 않음\n",
    "    for i in range(lowLimit, highLimit+1):\n",
    "        nums.append(i)\n",
    "        \n",
    "    idx = 0\n",
    "    while idx < len(nums):\n",
    "        tmp_res = 0\n",
    "        for j in list(str(nums[idx])):\n",
    "            tmp_res += int(j)\n",
    "        boxes[tmp_res] += 1\n",
    "        idx += 1\n",
    "      \n",
    "    return max(boxes)"
   ]
  },
  {
   "cell_type": "code",
   "execution_count": null,
   "metadata": {},
   "outputs": [],
   "source": [
    "##Runtime: 776ms / faster than 32.07%\n",
    "##Memory Usage: 18.4mb / less than 6.07%\n",
    "def countBalls(lowLimit: int, highLimit: int) -> int:\n",
    "    nums = []\n",
    "    def squareCheck(high):\n",
    "        for i in range(1,6):\n",
    "            if high <= 10 ** i:\n",
    "                return 10 ** i\n",
    "        \n",
    "    boxes = [0] * (squareCheck(highLimit) - 1)\n",
    "    for i in range(lowLimit, highLimit+1):\n",
    "        nums.append(i)\n",
    "        \n",
    "    idx = 0\n",
    "    while idx < len(nums):\n",
    "        tmp_res = 0\n",
    "        for j in list(str(nums[idx])):\n",
    "            tmp_res += int(j)\n",
    "        boxes[tmp_res] += 1\n",
    "        idx += 1\n",
    "      \n",
    "    return max(boxes)"
   ]
  },
  {
   "cell_type": "code",
   "execution_count": null,
   "metadata": {},
   "outputs": [],
   "source": [
    "countBalls(19,28)"
   ]
  },
  {
   "cell_type": "markdown",
   "metadata": {},
   "source": [
    "### Alternating Characters (3/20)\n",
    "https://www.hackerrank.com/challenges/alternating-characters/problem?h_l=interview&playlist_slugs[0]=interview-preparation-kit&playlist_slugs[1]=strings&fbclid=IwAR3hZuDDt38vu_Evk3uBIkYD3Ci5UIo952e-PdGNqQ6nIvQOZGhWnvLAjtk"
   ]
  },
  {
   "cell_type": "code",
   "execution_count": null,
   "metadata": {},
   "outputs": [],
   "source": [
    "def alternatingCharacters(s):\n",
    "    if (len(set(s)) == 1) and len(s) > 1:\n",
    "        return len(s)-1\n",
    "    \n",
    "    former_s = s[0]\n",
    "    is_first = True\n",
    "    cnt = 0\n",
    "    # cnt만 체크하는 것이므로 deletion은 없이, deletion이 필요한 횟수만 체크\n",
    "    for idx in range(len(s)-1):\n",
    "        if s[idx] == s[idx+1]:\n",
    "            cnt += 1\n",
    "            \n",
    "    return cnt"
   ]
  },
  {
   "cell_type": "code",
   "execution_count": null,
   "metadata": {},
   "outputs": [],
   "source": [
    "a = \"AAAA\"\n",
    "alternatingCharacters(a) # 3"
   ]
  },
  {
   "cell_type": "code",
   "execution_count": null,
   "metadata": {},
   "outputs": [],
   "source": [
    "b = \"ABABABAB\"\n",
    "alternatingCharacters(b) # 0"
   ]
  },
  {
   "cell_type": "code",
   "execution_count": null,
   "metadata": {},
   "outputs": [],
   "source": [
    "c = \"AAABBB\"\n",
    "alternatingCharacters(c) # 4"
   ]
  },
  {
   "cell_type": "markdown",
   "metadata": {},
   "source": [
    "### Counting Bits (03/27)\n",
    "https://leetcode.com/problems/counting-bits/"
   ]
  },
  {
   "cell_type": "code",
   "execution_count": null,
   "metadata": {},
   "outputs": [],
   "source": [
    "##Runtime: 240ms / faster than 5.98%\n",
    "##Memory usage: 20.9mb / less than 72.77%\n",
    "from typing import List\n",
    "def countBits(num: int) -> List[int]:\n",
    "    ret = []\n",
    "    for i in range(num+1):\n",
    "        ret.append(sum([int(x) for x in bin(i)[2:]]))\n",
    "    return ret"
   ]
  },
  {
   "cell_type": "code",
   "execution_count": null,
   "metadata": {},
   "outputs": [],
   "source": [
    "countBits(2)"
   ]
  },
  {
   "cell_type": "code",
   "execution_count": null,
   "metadata": {},
   "outputs": [],
   "source": [
    "countBits(5)"
   ]
  },
  {
   "cell_type": "markdown",
   "metadata": {},
   "source": [
    "### Kth Largest Element in an Array (03/27)\n",
    "https://leetcode.com/problems/kth-largest-element-in-an-array/"
   ]
  },
  {
   "cell_type": "code",
   "execution_count": null,
   "metadata": {},
   "outputs": [],
   "source": [
    "##Runtime: 68ms / faster than 51.11%\n",
    "##Memory usage: 15mb / 92.47%\n",
    "def findKthLargest(nums: List[int], k: int) -> int:\n",
    "    nums = sorted(nums)\n",
    "    return nums[-k]"
   ]
  },
  {
   "cell_type": "code",
   "execution_count": null,
   "metadata": {},
   "outputs": [],
   "source": [
    "a = [3,2,1,5,6,4]\n",
    "findKthLargest(a)"
   ]
  },
  {
   "cell_type": "markdown",
   "metadata": {},
   "source": [
    "### Find the Duplicate Number (03/27)\n",
    "https://leetcode.com/problems/find-the-duplicate-number/"
   ]
  },
  {
   "cell_type": "code",
   "execution_count": null,
   "metadata": {},
   "outputs": [],
   "source": [
    "##Runtime: 56ms / faster than 97.27%\n",
    "##Memory usage: 17.7mb / less than 26.16%\n",
    "def findDuplicate(nums: List[int]) -> int:\n",
    "    if len(nums) <= 2:\n",
    "        return nums[0]\n",
    "    from collections import Counter\n",
    "    res = Counter(nums)\n",
    "    for k,v in res.items():\n",
    "        if v >= 2:\n",
    "            return k"
   ]
  },
  {
   "cell_type": "code",
   "execution_count": null,
   "metadata": {},
   "outputs": [],
   "source": [
    "findDuplicate([1,3,4,2,2])"
   ]
  }
 ],
 "metadata": {
  "kernelspec": {
   "display_name": "Python 3",
   "language": "python",
   "name": "python3"
  },
  "language_info": {
   "codemirror_mode": {
    "name": "ipython",
    "version": 3
   },
   "file_extension": ".py",
   "mimetype": "text/x-python",
   "name": "python",
   "nbconvert_exporter": "python",
   "pygments_lexer": "ipython3",
   "version": "3.9.2"
  }
 },
 "nbformat": 4,
 "nbformat_minor": 4
}
