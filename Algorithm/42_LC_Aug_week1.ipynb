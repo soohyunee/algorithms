{
 "cells": [
  {
   "cell_type": "markdown",
   "metadata": {},
   "source": [
    "### Valid Palindrome (03/04)\n",
    "https://leetcode.com/problems/valid-palindrome/"
   ]
  },
  {
   "cell_type": "code",
   "execution_count": null,
   "metadata": {},
   "outputs": [],
   "source": [
    "def isPalindrome(s: str) -> bool:\n",
    "    import re\n",
    "    s = list(re.sub(r\"[^A-Za-z0-9]+\", '', s.lower()))\n",
    "    return s == [i for i in reversed(s)]"
   ]
  },
  {
   "cell_type": "code",
   "execution_count": null,
   "metadata": {},
   "outputs": [],
   "source": [
    "a = 'A man, a plan, a canal: Panama'\n",
    "isPalindrome(a)"
   ]
  },
  {
   "cell_type": "code",
   "execution_count": null,
   "metadata": {},
   "outputs": [],
   "source": [
    "b = 'race a car'\n",
    "isPalindrome(b)"
   ]
  },
  {
   "cell_type": "markdown",
   "metadata": {},
   "source": [
    "### Power of Four (08/04)\n",
    "https://leetcode.com/problems/power-of-four/<br>\n",
    "ref : https://stackoverflow.com/questions/6681743/splitting-a-number-into-the-integer-and-decimal-parts"
   ]
  },
  {
   "cell_type": "code",
   "execution_count": null,
   "metadata": {},
   "outputs": [],
   "source": [
    "def isPowerOfFour(num: int) -> bool:\n",
    "    import math\n",
    "    try:\n",
    "        return 0.0 == math.modf(math.log(num,4))[0] \n",
    "    # math.log로 값을 구하고, math.modf를 통해 (소수점 이하, 지수)를 받아서, 소수점 이하 부분이 0.0이면 True 반환 \n",
    "    except:\n",
    "        return False"
   ]
  },
  {
   "cell_type": "code",
   "execution_count": null,
   "metadata": {},
   "outputs": [],
   "source": [
    "a = 16\n",
    "isPowerOfFour(a)"
   ]
  },
  {
   "cell_type": "code",
   "execution_count": null,
   "metadata": {},
   "outputs": [],
   "source": [
    "b = -236\n",
    "isPowerOfFour(b)"
   ]
  },
  {
   "cell_type": "code",
   "execution_count": null,
   "metadata": {},
   "outputs": [],
   "source": [
    "c = 5\n",
    "isPowerOfFour(c)"
   ]
  },
  {
   "cell_type": "markdown",
   "metadata": {},
   "source": [
    "### Design HashSet (08/04)\n",
    "https://leetcode.com/problems/design-hashset/submissions/"
   ]
  },
  {
   "cell_type": "code",
   "execution_count": null,
   "metadata": {},
   "outputs": [],
   "source": [
    "class MyHashSet:\n",
    "    def __init__(self):\n",
    "        \"\"\"\n",
    "        Initialize your data structure here.\n",
    "        \"\"\"\n",
    "        self.hashs = []\n",
    "\n",
    "    def add(self, key: int) -> None:\n",
    "        self.hashs.append(key)\n",
    "\n",
    "    def remove(self, key: int) -> None:\n",
    "        while key in self.hashs:\n",
    "            self.hashs.remove(key)\n",
    "\n",
    "    def contains(self, key: int) -> bool:\n",
    "        \"\"\"\n",
    "        Returns true if this set contains the specified element\n",
    "        \"\"\"\n",
    "        return True if key in self.hashs else False"
   ]
  },
  {
   "cell_type": "code",
   "execution_count": null,
   "metadata": {},
   "outputs": [],
   "source": [
    "h = MyHashSet()\n",
    "h.add(1)\n",
    "h.add(2)\n",
    "print(h.contains(1))            # return True\n",
    "print(h.contains(3))             # return False (not found)     \n",
    "h.add(2)\n",
    "print(h.contains(2))             # return True\n",
    "h.remove(2)\n",
    "print(h.contains(2))             # return false (already removed)"
   ]
  }
 ],
 "metadata": {
  "kernelspec": {
   "display_name": "Python 3",
   "language": "python",
   "name": "python3"
  },
  "language_info": {
   "codemirror_mode": {
    "name": "ipython",
    "version": 3
   },
   "file_extension": ".py",
   "mimetype": "text/x-python",
   "name": "python",
   "nbconvert_exporter": "python",
   "pygments_lexer": "ipython3",
   "version": "3.7.6"
  }
 },
 "nbformat": 4,
 "nbformat_minor": 4
}
