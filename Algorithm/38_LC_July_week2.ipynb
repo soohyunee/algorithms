{
 "cells": [
  {
   "cell_type": "code",
   "execution_count": 2,
   "metadata": {
    "_cell_guid": "b1076dfc-b9ad-4769-8c92-a6c4dae69d19",
    "_uuid": "8f2839f25d086af736a60e9eeb907d3b93b6e0e5"
   },
   "outputs": [],
   "source": [
    "from typing import List"
   ]
  },
  {
   "cell_type": "markdown",
   "metadata": {},
   "source": [
    "### [easy] Destination City (07/10)\n",
    "https://leetcode.com/problems/destination-city/submissions/"
   ]
  },
  {
   "cell_type": "code",
   "execution_count": 3,
   "metadata": {},
   "outputs": [],
   "source": [
    "def destCity(paths: List[List[str]]) -> str:\n",
    "    destin = []\n",
    "    origin = []\n",
    "    for path in paths:\n",
    "        path[0] = path[0].replace(' ', '1')\n",
    "        path[1] = path[1].replace(' ', '1')\n",
    "        if path[0] not in origin:\n",
    "            origin.append(path[0])\n",
    "\n",
    "        if path[1] not in destin:\n",
    "            destin.append(path[1])\n",
    "\n",
    "        else:\n",
    "            continue\n",
    "\n",
    "    lst = []\n",
    "    for d in destin:\n",
    "        if d not in origin:\n",
    "            lst.append(d)\n",
    "\n",
    "        else:\n",
    "            continue\n",
    "            \n",
    "    return lst[-1].replace('1', ' ')"
   ]
  },
  {
   "cell_type": "code",
   "execution_count": 4,
   "metadata": {},
   "outputs": [
    {
     "data": {
      "text/plain": [
       "'wRPRHznLWS'"
      ]
     },
     "execution_count": 4,
     "metadata": {},
     "output_type": "execute_result"
    }
   ],
   "source": [
    "a = [[\"jMgaf WaWA\",\"iinynVdmBz\"],[\" QCrEFBcAw\",\"wRPRHznLWS\"],[\"iinynVdmBz\",\"OoLjlLFzjz\"],[\"OoLjlLFzjz\",\" QCrEFBcAw\"],[\"IhxjNbDeXk\",\"jMgaf WaWA\"],[\"jmuAYy vgz\",\"IhxjNbDeXk\"]]\n",
    "destCity(a)"
   ]
  },
  {
   "cell_type": "code",
   "execution_count": 5,
   "metadata": {},
   "outputs": [
    {
     "data": {
      "text/plain": [
       "'Sao Paulo'"
      ]
     },
     "execution_count": 5,
     "metadata": {},
     "output_type": "execute_result"
    }
   ],
   "source": [
    "b = [[\"London\",\"New York\"],[\"New York\",\"Lima\"],[\"Lima\",\"Sao Paulo\"]]\n",
    "destCity(b)"
   ]
  },
  {
   "cell_type": "markdown",
   "metadata": {},
   "source": [
    "### [easy] number of students doing homework at a given time (07/10)\n",
    "https://leetcode.com/problems/number-of-students-doing-homework-at-a-given-time/submissions/"
   ]
  },
  {
   "cell_type": "code",
   "execution_count": 6,
   "metadata": {},
   "outputs": [],
   "source": [
    "''' \n",
    "time complexity : O(N)\n",
    "space complexity : O(1)\n",
    "'''\n",
    "def busyStudent(startTime: List[int], endTime: List[int], queryTime: int) -> int:\n",
    "        if (len(startTime) == 1 == len(endTime)) and queryTime == startTime[0] == endTime[0]:\n",
    "            return 1\n",
    "        \n",
    "        idx, cnt = 0, 0\n",
    "        while idx < len(startTime):\n",
    "            if (endTime[idx] >= queryTime) and (queryTime >= startTime[idx]):\n",
    "                cnt += 1\n",
    "                idx += 1\n",
    "                \n",
    "            else:\n",
    "                idx += 1\n",
    "                \n",
    "        return cnt"
   ]
  },
  {
   "cell_type": "code",
   "execution_count": 7,
   "metadata": {},
   "outputs": [
    {
     "data": {
      "text/plain": [
       "2"
      ]
     },
     "execution_count": 7,
     "metadata": {},
     "output_type": "execute_result"
    }
   ],
   "source": [
    "a = [61,74,11,54]\n",
    "b = [61,75,65,92]\n",
    "busyStudent(startTime=a, endTime=b, queryTime=75)"
   ]
  },
  {
   "cell_type": "markdown",
   "metadata": {},
   "source": [
    "### Can Make Arithmetic Progression from Sequence (07/10)\n",
    "https://leetcode.com/problems/can-make-arithmetic-progression-from-sequence/"
   ]
  },
  {
   "cell_type": "code",
   "execution_count": 8,
   "metadata": {},
   "outputs": [],
   "source": [
    "def canMakeArithmeticProgression(arr: List[int]) -> bool:\n",
    "        if len(set(arr)) == 1:\n",
    "            return True\n",
    "        \n",
    "        def returns(x):\n",
    "            lst = []\n",
    "            for idx in range(1, len(x)):\n",
    "                lst.append(x[idx-1] - x[idx])        \n",
    "            if len(set(lst)) == 1:\n",
    "                return True\n",
    "            else:\n",
    "                return False\n",
    "    \n",
    "        reverse_sorts = [sorted(arr), sorted(arr, reverse=True)]\n",
    "        return [returns(x) for x in reverse_sorts][-1]"
   ]
  },
  {
   "cell_type": "code",
   "execution_count": 9,
   "metadata": {},
   "outputs": [
    {
     "data": {
      "text/plain": [
       "True"
      ]
     },
     "execution_count": 9,
     "metadata": {},
     "output_type": "execute_result"
    }
   ],
   "source": [
    "a = [0,0,0,0]\n",
    "canMakeArithmeticProgression(a)"
   ]
  }
 ],
 "metadata": {
  "kernelspec": {
   "display_name": "Python 3",
   "language": "python",
   "name": "python3"
  },
  "language_info": {
   "codemirror_mode": {
    "name": "ipython",
    "version": 3
   },
   "file_extension": ".py",
   "mimetype": "text/x-python",
   "name": "python",
   "nbconvert_exporter": "python",
   "pygments_lexer": "ipython3",
   "version": "3.7.7"
  }
 },
 "nbformat": 4,
 "nbformat_minor": 4
}
