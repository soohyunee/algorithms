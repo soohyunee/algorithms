{
 "cells": [
  {
   "cell_type": "markdown",
   "metadata": {},
   "source": [
    "----------------------------------------------------------------------------------------\n",
    "Implement strStr() (solved: 05/12)<br>\n",
    "https://leetcode.com/explore/interview/card/top-interview-questions-easy/127/strings/885/<br>\n",
    "- Return the first occurrence index of a 'needle' in a haystack<br>"
   ]
  },
  {
   "cell_type": "code",
   "execution_count": 4,
   "metadata": {},
   "outputs": [],
   "source": [
    "def strStr(haystack: str, needle: str) -> int:\n",
    "    if needle == '':\n",
    "        return 0\n",
    "    \n",
    "    for idx in range(len(haystack)):\n",
    "        if haystack[idx:idx+len(needle)] == needle:\n",
    "            return idx\n",
    "    return -1"
   ]
  },
  {
   "cell_type": "markdown",
   "metadata": {},
   "source": [
    "----------------------------------------------------------------\n",
    "Move zeroes (solved: 04/28)<br>\n",
    "https://leetcode.com/explore/interview/card/top-interview-questions-easy/92/array/567/"
   ]
  },
  {
   "cell_type": "code",
   "execution_count": 9,
   "metadata": {},
   "outputs": [],
   "source": [
    "from typing import List\n",
    "def moveZeroes(nums: List[int]) -> None:\n",
    "    cnt = 0\n",
    "    idx = 0\n",
    "    while idx < len(nums):\n",
    "        if nums[idx] == 0:\n",
    "            cnt += 1\n",
    "            nums.pop(idx)\n",
    "            \n",
    "        else:\n",
    "            idx += 1\n",
    "            continue\n",
    "            \n",
    "    nums.extend([0 for _ in range(cnt)])"
   ]
  },
  {
   "cell_type": "code",
   "execution_count": 10,
   "metadata": {},
   "outputs": [],
   "source": [
    "b = [0,0,1]\n",
    "moveZeroes(b)"
   ]
  },
  {
   "cell_type": "code",
   "execution_count": 11,
   "metadata": {},
   "outputs": [],
   "source": [
    "a = [0,1,0,3,12]\n",
    "moveZeroes(a)"
   ]
  },
  {
   "cell_type": "markdown",
   "metadata": {},
   "source": [
    "----------------------------------------------------------------------------\n",
    "[Week3] Product of Array Except Self (solved: 04/28 with its solution)<br>\n",
    "https://leetcode.com/explore/challenge/card/30-day-leetcoding-challenge/530/week-3/3300/<br><br>"
   ]
  },
  {
   "cell_type": "code",
   "execution_count": 12,
   "metadata": {},
   "outputs": [],
   "source": [
    "from typing import List\n",
    "\n",
    "def productExceptSelf(nums: List[int]) -> List[int]:\n",
    "    if set(nums) == {0} or set(nums) == {1}:\n",
    "        return nums\n",
    "    \n",
    "    else:\n",
    "        L, R = [1 for _ in nums], [1 for _ in nums]\n",
    "        len_nums = len(nums)-1\n",
    "        for i in range(len_nums):\n",
    "            L[i+1] = nums[i] * L[i]\n",
    "            R[len_nums-i-1] = nums[len_nums-i] * R[len_nums-i]\n",
    "            \n",
    "        import numpy as np\n",
    "        res = np.multiply(L, R)\n",
    "        return res"
   ]
  },
  {
   "cell_type": "code",
   "execution_count": null,
   "metadata": {},
   "outputs": [],
   "source": [
    "a = [1,2,3,4]\n",
    "productExceptSelf(a)"
   ]
  }
 ],
 "metadata": {
  "kernelspec": {
   "display_name": "Python 3",
   "language": "python",
   "name": "python3"
  },
  "language_info": {
   "codemirror_mode": {
    "name": "ipython",
    "version": 3
   },
   "file_extension": ".py",
   "mimetype": "text/x-python",
   "name": "python",
   "nbconvert_exporter": "python",
   "pygments_lexer": "ipython3",
   "version": "3.7.7"
  }
 },
 "nbformat": 4,
 "nbformat_minor": 4
}
