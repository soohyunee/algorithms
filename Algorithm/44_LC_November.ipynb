{
 "cells": [
  {
   "cell_type": "markdown",
   "metadata": {},
   "source": [
    "### Consecutive Characters (11/07)\n",
    "https://leetcode.com/problems/consecutive-characters/"
   ]
  },
  {
   "cell_type": "code",
   "execution_count": null,
   "metadata": {
    "_cell_guid": "79c7e3d0-c299-4dcb-8224-4455121ee9b0",
    "_uuid": "d629ff2d2480ee46fbb7e2d37f6b5fab8052498a"
   },
   "outputs": [],
   "source": [
    "def maxPower(s: str) -> int:\n",
    "    if len(s) == 1:\n",
    "        return 1\n",
    "    \n",
    "    keep_letter = s[0]\n",
    "    cnt, max_cnt = 1, 1\n",
    "    first = True\n",
    "    for i in s:\n",
    "        if i != keep_letter:\n",
    "            keep_letter = i\n",
    "            cnt = 1\n",
    "            first = False\n",
    "            \n",
    "        elif (i == keep_letter) and first:\n",
    "            first = False\n",
    "            if cnt > max_cnt:\n",
    "                max_cnt = cnt\n",
    "                \n",
    "        elif i == keep_letter:\n",
    "            cnt += 1\n",
    "            if cnt > max_cnt:\n",
    "                max_cnt = cnt\n",
    "    \n",
    "    print(max_cnt)\n",
    "    return max_cnt"
   ]
  },
  {
   "cell_type": "code",
   "execution_count": null,
   "metadata": {},
   "outputs": [],
   "source": [
    "a = 'leetcode'\n",
    "maxPower(a)      # 2"
   ]
  },
  {
   "cell_type": "code",
   "execution_count": null,
   "metadata": {},
   "outputs": [],
   "source": [
    "b = 'abbcccddddeeeeedcba'\n",
    "maxPower(b)      # 5"
   ]
  },
  {
   "cell_type": "code",
   "execution_count": null,
   "metadata": {},
   "outputs": [],
   "source": [
    "c = 'triplepillooooow'\n",
    "maxPower(c)      # 5"
   ]
  },
  {
   "cell_type": "code",
   "execution_count": null,
   "metadata": {},
   "outputs": [],
   "source": [
    "d = 'hooraaaaaaaaaaay'\n",
    "maxPower(d)      # 11"
   ]
  },
  {
   "cell_type": "code",
   "execution_count": null,
   "metadata": {},
   "outputs": [],
   "source": [
    "e = 'tourist'\n",
    "maxPower(e)      # 1"
   ]
  },
  {
   "cell_type": "markdown",
   "metadata": {},
   "source": [
    "### Shuffle String (11/09 & 10)\n",
    "https://leetcode.com/problems/shuffle-string/<br>\n",
    "1) 문자를 정렬하는 문제<br>\n",
    "2) 각 문자마다 index가 할당되어 있고, 이걸 그냥 정렬<br>\n",
    "3) 인풋으로 들어오는 indices의 개수는 문자의 개수와 동일해야 함<br>"
   ]
  },
  {
   "cell_type": "code",
   "execution_count": null,
   "metadata": {},
   "outputs": [],
   "source": [
    "## Runtime : 56ms / faster than 51.24%\n",
    "## Memory Usage : 14.1mb / less than 100.0%\n",
    "from typing import List\n",
    "def restoreString(s: str, indices: List[int]) -> str:\n",
    "    tmp_dict = {}\n",
    "\n",
    "    for idx,strings in zip(indices, s):\n",
    "        tmp_dict[idx] = strings\n",
    "    \n",
    "    sorted_indices = sorted(indices)\n",
    "    return_list = []\n",
    "    \n",
    "    for i in sorted_indices:\n",
    "        return_list.append(tmp_dict[i])\n",
    "        \n",
    "    return ''.join(return_list)"
   ]
  },
  {
   "cell_type": "code",
   "execution_count": null,
   "metadata": {},
   "outputs": [],
   "source": [
    "## Runtime : 80ms / faster than 10.47%\n",
    "## Memory Usage : 14.2mb / less than 100.0%  \n",
    "## 10일날 품. 근데 오히려 위보다 실행 시간도 더 걸리고, 메모리 사용량도 차이가 크게 없다..\n",
    "def restoreString(s: str, indices: List[int]) -> str:\n",
    "    if len(s) == 1 == len(indices):\n",
    "        return s\n",
    "    \n",
    "    idx = 0\n",
    "    res = ''\n",
    "    s = list(s)\n",
    "    while idx+1 < len(s):\n",
    "        if idx not in indices:\n",
    "            idx += 1\n",
    "            \n",
    "        elif idx in indices:\n",
    "            res += s[indices.index(idx)]\n",
    "            idx += 1\n",
    "            if idx+1 == len(s):\n",
    "                res += s[indices.index(idx)]\n",
    "                print('idx:',idx,'res:',res)\n",
    "                return res\n",
    "            \n",
    "            elif idx+1 > len(s):\n",
    "                return res\n",
    "            \n",
    "    return res"
   ]
  },
  {
   "cell_type": "code",
   "execution_count": null,
   "metadata": {},
   "outputs": [],
   "source": [
    "a = \"codeleet\"\n",
    "b = [4,5,6,7,0,2,1,3]\n",
    "restoreString(s=a, indices=b)  #  leetcode"
   ]
  },
  {
   "cell_type": "code",
   "execution_count": null,
   "metadata": {},
   "outputs": [],
   "source": [
    "c = \"abc\"\n",
    "d = [0,1,2]\n",
    "restoreString(s=c, indices=d)  # abc"
   ]
  },
  {
   "cell_type": "code",
   "execution_count": null,
   "metadata": {},
   "outputs": [],
   "source": [
    "e = \"aiohn\"\n",
    "f = [3,1,4,2,0]\n",
    "restoreString(s=e, indices=f) # nihao"
   ]
  },
  {
   "cell_type": "code",
   "execution_count": null,
   "metadata": {},
   "outputs": [],
   "source": [
    "g = \"aaiougrt\"\n",
    "h = [4,0,2,6,7,3,1,5]\n",
    "restoreString(s=g, indices=h)  # arigatou"
   ]
  },
  {
   "cell_type": "code",
   "execution_count": null,
   "metadata": {},
   "outputs": [],
   "source": [
    "i = \"art\"\n",
    "j = [1,0,2]\n",
    "restoreString(s=i, indices=j)   # rat"
   ]
  },
  {
   "cell_type": "markdown",
   "metadata": {},
   "source": [
    "### Flipping an Image (11/11)\n",
    "https://leetcode.com/problems/flipping-an-image/<br>\n",
    "1) input은 binary matrix임<br>\n",
    "2-1) elems의 변화는 없고, 위치만 달라지는 것이 flip<br>\n",
    "2-2) elems가 변화하는 것이 invert<br>\n",
    "3) flip을 먼저 한 다음에, invert를 수행하고, 그 결과값을 return하는 것이 결론<br>"
   ]
  },
  {
   "cell_type": "code",
   "execution_count": null,
   "metadata": {},
   "outputs": [],
   "source": [
    "## Runtime : 52ms / faster than 53.41%\n",
    "## Memory usage : 14.2mb / less than 100.0%\n",
    "def flipAndInvertImage(A: List[List[int]]) -> List[List[int]]:\n",
    "    import copy\n",
    "    for idx in range(len(A)):\n",
    "        tmp = copy.deepcopy(A[idx])\n",
    "        # flip\n",
    "        for idx3 in range(len(A[idx])):\n",
    "            A[idx][abs(len(A[idx])-idx3-1)] = tmp[idx3]\n",
    "            \n",
    "        # invert\n",
    "        for idx2, value in enumerate(A[idx]):\n",
    "            if value == 0:\n",
    "                A[idx][idx2] = 1\n",
    "            else:\n",
    "                A[idx][idx2] = 0\n",
    "    \n",
    "    return A"
   ]
  },
  {
   "cell_type": "code",
   "execution_count": null,
   "metadata": {},
   "outputs": [],
   "source": [
    "a = [[1,1,0],[1,0,1],[0,0,0]]    # flip: [[0,1,1],[1,0,1],[0,0,0]]\n",
    "flipAndInvertImage(A=a)          # invert: [[1,0,0],[0,1,0],[1,1,1]]"
   ]
  },
  {
   "cell_type": "code",
   "execution_count": null,
   "metadata": {},
   "outputs": [],
   "source": [
    "b = [[1,1,0,0],[1,0,0,1],[0,1,1,1],[1,0,1,0]]  # flip: [[0,0,1,1],[1,0,0,1],[1,1,1,0],[0,1,0,1]]\n",
    "flipAndInvertImage(A=b)                        # invert: [[1,1,0,0],[0,1,1,0],[0,0,0,1],[1,0,1,0]]"
   ]
  },
  {
   "cell_type": "markdown",
   "metadata": {},
   "source": [
    "### Sum of All Odd Length Subarrays (11/12)\n",
    "https://leetcode.com/problems/sum-of-all-odd-length-subarrays/"
   ]
  },
  {
   "cell_type": "code",
   "execution_count": null,
   "metadata": {},
   "outputs": [],
   "source": [
    "## Runtime : 236ms / faster than 5.44%\n",
    "## Memory usage : 14.2mb / less than 100.0%\n",
    "def sumOddLengthSubarrays(arr: List[int]) -> int:\n",
    "    check = []\n",
    "    for x in range(len(arr)+1):\n",
    "        if x % 2 == 1:\n",
    "            check.append(x)\n",
    "\n",
    "    res = sum(arr)      # stride_len이 1일 경우를 대비해서 미리 넣어주는 것\n",
    "    for stride_len in check:\n",
    "        if stride_len == 1:\n",
    "            continue\n",
    "\n",
    "        idx = 0\n",
    "        while idx < len(arr):\n",
    "            if idx+stride_len <= len(arr):\n",
    "                res += sum(arr[idx:idx+stride_len])\n",
    "                idx += 1\n",
    "\n",
    "            else:\n",
    "                idx = len(arr)\n",
    "\n",
    "    return res"
   ]
  },
  {
   "cell_type": "code",
   "execution_count": null,
   "metadata": {},
   "outputs": [],
   "source": [
    "a = [1,4,2,5,3]\n",
    "sumOddLengthSubarrays(arr=a)    # 58 "
   ]
  },
  {
   "cell_type": "code",
   "execution_count": null,
   "metadata": {},
   "outputs": [],
   "source": [
    "b = [1,2]\n",
    "sumOddLengthSubarrays(arr=b)    # 3"
   ]
  },
  {
   "cell_type": "code",
   "execution_count": null,
   "metadata": {},
   "outputs": [],
   "source": [
    "c = [10,11,12]\n",
    "sumOddLengthSubarrays(arr=c)    # 66"
   ]
  },
  {
   "cell_type": "markdown",
   "metadata": {},
   "source": [
    "## Unique Number of Occurrences (11/16)\n",
    "https://leetcode.com/problems/unique-number-of-occurrences/<br>\n",
    "1) arr안에 들어가 있는 integers는 모두 서로 다른 횟수의 occurrences를 가져야 함<br>"
   ]
  },
  {
   "cell_type": "code",
   "execution_count": null,
   "metadata": {},
   "outputs": [],
   "source": [
    "## Runtime: 36ms / faster than 59.73%\n",
    "## Memory usage: 14.3mb / less than 57.87%\n",
    "def uniqueOccurrences(arr: List[int]) -> bool:\n",
    "    from collections import Counter\n",
    "    arr = Counter(arr)\n",
    "    occurrences = []\n",
    "\n",
    "    for _,v in arr.items():         # arr.values()로 설정할 경우, runtime: 28ms/faster than 94.95% \n",
    "        occurrences.append(v)       # Memory usage: 14.4mb / less than 14.10%% \n",
    "\n",
    "    return True if len(set(occurrences)) == len(occurrences) else False"
   ]
  },
  {
   "cell_type": "code",
   "execution_count": null,
   "metadata": {},
   "outputs": [],
   "source": [
    "a = [1,2,2,1,1,3]\n",
    "print(uniqueOccurrences(arr=a))  # true"
   ]
  },
  {
   "cell_type": "code",
   "execution_count": null,
   "metadata": {},
   "outputs": [],
   "source": [
    "b = [1,2]\n",
    "print(uniqueOccurrences(arr=b))  # false"
   ]
  },
  {
   "cell_type": "code",
   "execution_count": null,
   "metadata": {},
   "outputs": [],
   "source": [
    "c = [-3,0,1,-3,1,1,1,-3,10,0]\n",
    "print(uniqueOccurrences(arr=c))  # true"
   ]
  },
  {
   "cell_type": "markdown",
   "metadata": {},
   "source": [
    "### Convert Binary Number in a Linked list to Integer (11/19)\n",
    "https://leetcode.com/problems/convert-binary-number-in-a-linked-list-to-integer/<br>\n",
    "1) 각 노드는 0 또는 1만 갖고 있음<br>"
   ]
  },
  {
   "cell_type": "code",
   "execution_count": null,
   "metadata": {},
   "outputs": [],
   "source": [
    "# Definition for singly-linked list.\n",
    "class ListNode:\n",
    "    def __init__(self, val=0, next=None):\n",
    "        self.val = val\n",
    "        self.next = next"
   ]
  },
  {
   "cell_type": "code",
   "execution_count": null,
   "metadata": {},
   "outputs": [],
   "source": [
    "## Runtime: 28ms / faster than 79.45%\n",
    "## Memory usage: 14.1mb / less than 72.22% \n",
    "class Solution:\n",
    "    def getDecimalValue(self, head: ListNode) -> int:\n",
    "        if head.next == None:   # 이게 len 1짜리 노드일 경우\n",
    "            return int(head.val)\n",
    "        \n",
    "        tmp = []\n",
    "        while head.next:\n",
    "            tmp.append(str(head.val))\n",
    "            head = head.next\n",
    "            if head.next == None:\n",
    "                tmp.append(str(head.val))\n",
    "                break\n",
    "        \n",
    "        len_tmp=len(tmp)-1\n",
    "        res = 0\n",
    "        for idx,x in enumerate(tmp):\n",
    "            if int(x) == 1: \n",
    "                res += 2**(len_tmp - idx)\n",
    "\n",
    "        return res"
   ]
  }
 ],
 "metadata": {
  "kernelspec": {
   "display_name": "Python 3",
   "language": "python",
   "name": "python3"
  },
  "language_info": {
   "codemirror_mode": {
    "name": "ipython",
    "version": 3
   },
   "file_extension": ".py",
   "mimetype": "text/x-python",
   "name": "python",
   "nbconvert_exporter": "python",
   "pygments_lexer": "ipython3",
   "version": "3.8.5"
  }
 },
 "nbformat": 4,
 "nbformat_minor": 4
}
