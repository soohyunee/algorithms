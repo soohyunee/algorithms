{
 "cells": [
  {
   "cell_type": "code",
   "execution_count": null,
   "metadata": {
    "_cell_guid": "b1076dfc-b9ad-4769-8c92-a6c4dae69d19",
    "_uuid": "8f2839f25d086af736a60e9eeb907d3b93b6e0e5"
   },
   "outputs": [],
   "source": [
    "from typing import List"
   ]
  },
  {
   "cell_type": "markdown",
   "metadata": {},
   "source": [
    "### Single Number III (07/26)\n",
    "https://leetcode.com/problems/single-number-iii/"
   ]
  },
  {
   "cell_type": "markdown",
   "metadata": {},
   "source": [
    "1. 2개가 되는 시점부터는 체크하는 것에서 빠짐<br>\n",
    "2. return list에서의 order는 not important<br>\n",
    "3. 실행시간이 linear time complexity"
   ]
  },
  {
   "cell_type": "code",
   "execution_count": null,
   "metadata": {
    "_cell_guid": "79c7e3d0-c299-4dcb-8224-4455121ee9b0",
    "_uuid": "d629ff2d2480ee46fbb7e2d37f6b5fab8052498a"
   },
   "outputs": [],
   "source": [
    "# time complexity : O(N)\n",
    "# space complexity : O(N)  # python3의 dictionary는 O(2N)이라는데, hash table로 쓰면 O(N)이라캄.. \n",
    "# 근데 나는 구축도 했고, hash table 모냥 쓰기도 했으니.. O(2N)이 맞는건가?\n",
    "\n",
    "def singleNumber(nums: List[int]) -> List[int]:\n",
    "    dic = {}\n",
    "    cnt = 0\n",
    "    \n",
    "    for i in nums:\n",
    "        if i in dic.keys():\n",
    "            dic[i] += 1\n",
    "            \n",
    "        else:\n",
    "            dic[i] = 1\n",
    "            \n",
    "    return [x for x in dic.keys() if dic[x] == 1]"
   ]
  },
  {
   "cell_type": "code",
   "execution_count": null,
   "metadata": {},
   "outputs": [],
   "source": [
    "a = [1,2,1,3,2,5]\n",
    "print(singleNumber(a))"
   ]
  },
  {
   "cell_type": "markdown",
   "metadata": {},
   "source": [
    "### Add Digits (07/28)\n",
    "https://leetcode.com/problems/add-digits/<br><br>\n",
    "discussion에서 이를 9로 나누는 것으로 해결한 코드가 있는데, 신기하다<br>\n",
    "https://leetcode.com/problems/add-digits/discuss/756533/Python-Math-O(1)-oneliner-explained<br><br>\n",
    "아래는 위를 이해하기 위한 레퍼런스<br>\n",
    "https://www.quora.com/What-is-the-sum-of-all-the-possible-remainders-which-can-be-obtained-when-the-cube-of-a-natural-number-is-divided-by-9"
   ]
  },
  {
   "cell_type": "code",
   "execution_count": null,
   "metadata": {},
   "outputs": [],
   "source": [
    "# time complexity : O(N)\n",
    "# space complexity : O(1)\n",
    "def addDigits(num: int) -> int:\n",
    "    while len(str(num)) > 1:                # O(1)\n",
    "        num = str(num)\n",
    "        res = 0\n",
    "        for i in range(len(num)):            # O(N) \n",
    "            res += int(num[i])\n",
    "        num = res\n",
    "\n",
    "    return int(num)"
   ]
  },
  {
   "cell_type": "code",
   "execution_count": null,
   "metadata": {},
   "outputs": [],
   "source": [
    "a = 38\n",
    "addDigits(a)"
   ]
  },
  {
   "cell_type": "code",
   "execution_count": null,
   "metadata": {},
   "outputs": [],
   "source": [
    "b = 101\n",
    "addDigits(b)"
   ]
  }
 ],
 "metadata": {
  "kernelspec": {
   "display_name": "Python 3",
   "language": "python",
   "name": "python3"
  },
  "language_info": {
   "codemirror_mode": {
    "name": "ipython",
    "version": 3
   },
   "file_extension": ".py",
   "mimetype": "text/x-python",
   "name": "python",
   "nbconvert_exporter": "python",
   "pygments_lexer": "ipython3",
   "version": "3.7.6"
  }
 },
 "nbformat": 4,
 "nbformat_minor": 4
}
