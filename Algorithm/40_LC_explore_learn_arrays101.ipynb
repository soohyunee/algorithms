{
 "cells": [
  {
   "cell_type": "markdown",
   "metadata": {},
   "source": [
    "### Height Checker (07/23)\n",
    "https://leetcode.com/explore/learn/card/fun-with-arrays/523/conclusion/3228/"
   ]
  },
  {
   "cell_type": "code",
   "execution_count": null,
   "metadata": {},
   "outputs": [],
   "source": [
    "from typing import List\n",
    "def heightChecker(heights: List[int]) -> int:\n",
    "    sorted_lst = sorted(heights)\n",
    "    cnt = 0\n",
    "    for i,j in zip(sorted_lst, heights):\n",
    "        if i - j != 0:\n",
    "            cnt += 1\n",
    "        else:\n",
    "            continue\n",
    "            \n",
    "    return cnt"
   ]
  },
  {
   "cell_type": "code",
   "execution_count": null,
   "metadata": {},
   "outputs": [],
   "source": [
    "a = [5,1,2,3,4]\n",
    "heightChecker(a)"
   ]
  },
  {
   "cell_type": "markdown",
   "metadata": {},
   "source": [
    "### Third Maximum Number (07/23)\n",
    "https://leetcode.com/explore/learn/card/fun-with-arrays/523/conclusion/3231/"
   ]
  },
  {
   "cell_type": "code",
   "execution_count": null,
   "metadata": {},
   "outputs": [],
   "source": [
    "def thirdMax(nums: List[int]) -> int:\n",
    "    set_nums = set(nums)\n",
    "    if (len(set_nums) <= 2):\n",
    "        return max(nums)\n",
    "    \n",
    "    else:\n",
    "        a = [x for x in sorted(set(nums), reverse=True)]\n",
    "        return a[2]"
   ]
  },
  {
   "cell_type": "code",
   "execution_count": null,
   "metadata": {},
   "outputs": [],
   "source": [
    "a = [2,2,3,1]\n",
    "print(thirdMax(a))"
   ]
  },
  {
   "cell_type": "code",
   "execution_count": null,
   "metadata": {},
   "outputs": [],
   "source": [
    "b = [1,1,2]\n",
    "print(thirdMax(b))"
   ]
  },
  {
   "cell_type": "markdown",
   "metadata": {},
   "source": [
    "### Replace elements with Greatest element on right side (07/26)\n",
    "https://leetcode.com/explore/learn/card/fun-with-arrays/511/in-place-operations/3259/"
   ]
  },
  {
   "cell_type": "markdown",
   "metadata": {},
   "source": [
    "1. 자신보다 우측에 있는 애들 중, 가장 큰 애로 자신의 자리를 replace<br>\n",
    "2. 1의 이유로 inplace operation을 해야함<br>\n",
    "3. 우측에 있는 애가 자신보다 크지는 않더라도, 남은 애들 중 가장 큰 애로 자신의 자리를 replace<br>\n",
    "4. 가장 마지막 위치에는 항상 -1이 들어가야 함"
   ]
  },
  {
   "cell_type": "code",
   "execution_count": 7,
   "metadata": {},
   "outputs": [],
   "source": [
    "from typing import List\n",
    "\n",
    "def replaceElements(arr: List[int]) -> List[int]:\n",
    "    if len(arr) == 1 or arr == []:\n",
    "        return [-1]\n",
    "        \n",
    "    idx = 0\n",
    "    while idx+1 < len(arr):\n",
    "        max_value = max(arr[idx+1:])\n",
    "        arr[idx] = max_value\n",
    "        idx += 1\n",
    "        if idx == len(arr)-1:\n",
    "            arr[idx] = -1\n",
    "            return arr"
   ]
  },
  {
   "cell_type": "code",
   "execution_count": 8,
   "metadata": {},
   "outputs": [
    {
     "name": "stdout",
     "output_type": "stream",
     "text": [
      "[18, 6, 6, 6, 1, -1]\n"
     ]
    }
   ],
   "source": [
    "a = [17,18,5,4,6,1]\n",
    "print(replaceElements(a))"
   ]
  },
  {
   "cell_type": "markdown",
   "metadata": {},
   "source": [
    "### Sort array By Parity (07/26)\n",
    "https://leetcode.com/explore/learn/card/fun-with-arrays/511/in-place-operations/3260/"
   ]
  },
  {
   "cell_type": "markdown",
   "metadata": {},
   "source": [
    "1. even number는 좌측에 / odd number는 우측에 위치해야 함<br>\n",
    "2. even numbers와 odd numbers는 그 사이의 구분만 명확하다면, 순서는 상관없음<br>\n",
    "3. 뒤엣거부터 체크해서, even number들만 앞의 index로 넣어주는 형식이면 어떨까? 이게 잘 안되는데.. 그러면 앞에서 odd numbers만 뒤로 넣어주는 형식이면 어떨까?"
   ]
  },
  {
   "cell_type": "code",
   "execution_count": 23,
   "metadata": {},
   "outputs": [],
   "source": [
    "def sortArrayByParity(A: List[int]) -> List[int]:\n",
    "    cnt, idx = 0, 0\n",
    "    while cnt < len(A):\n",
    "        cnt += 1\n",
    "        if A[idx] % 2 == 1:\n",
    "            print('a_idx:',A[idx])\n",
    "            tmp = A.pop(idx)\n",
    "            A.append(tmp)\n",
    "            \n",
    "        else:\n",
    "            idx += 1\n",
    "            continue\n",
    "    \n",
    "    return A"
   ]
  },
  {
   "cell_type": "code",
   "execution_count": 24,
   "metadata": {},
   "outputs": [
    {
     "name": "stdout",
     "output_type": "stream",
     "text": [
      "a_idx: 3\n",
      "a_idx: 1\n",
      "[2, 4, 3, 1]\n"
     ]
    }
   ],
   "source": [
    "a = [3,1,2,4]\n",
    "print(sortArrayByParity(a))"
   ]
  }
 ],
 "metadata": {
  "kernelspec": {
   "display_name": "Python 3",
   "language": "python",
   "name": "python3"
  },
  "language_info": {
   "codemirror_mode": {
    "name": "ipython",
    "version": 3
   },
   "file_extension": ".py",
   "mimetype": "text/x-python",
   "name": "python",
   "nbconvert_exporter": "python",
   "pygments_lexer": "ipython3",
   "version": "3.7.6"
  }
 },
 "nbformat": 4,
 "nbformat_minor": 4
}
