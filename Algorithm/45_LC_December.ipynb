{
 "cells": [
  {
   "cell_type": "code",
   "execution_count": null,
   "metadata": {
    "_cell_guid": "b1076dfc-b9ad-4769-8c92-a6c4dae69d19",
    "_uuid": "8f2839f25d086af736a60e9eeb907d3b93b6e0e5"
   },
   "outputs": [],
   "source": [
    "import numpy as np\n",
    "import pandas as pd\n",
    "from typing import List"
   ]
  },
  {
   "cell_type": "markdown",
   "metadata": {},
   "source": [
    "### Richest Customer Wealth (12/02)\n",
    "https://leetcode.com/problems/richest-customer-wealth/"
   ]
  },
  {
   "cell_type": "code",
   "execution_count": null,
   "metadata": {},
   "outputs": [],
   "source": [
    "## Runtime: 48ms / faster than 96.48% \n",
    "## Memory usage: 14.3mb / less than 33.36%\n",
    "def maximumWealth(accounts: List[List[int]]) -> int:\n",
    "    if not accounts:    # 이게 있는 것이 더 빠름\n",
    "        return \n",
    "    max_val = 0\n",
    "    for vals in accounts:\n",
    "        if sum(vals) > max_val:\n",
    "            max_val = sum(vals)\n",
    "            \n",
    "    return max_val"
   ]
  },
  {
   "cell_type": "code",
   "execution_count": null,
   "metadata": {},
   "outputs": [],
   "source": [
    "## Runtime: 52ms / faster than 86.56% \n",
    "## Memory usage: 14.1mb / less than 96/48%\n",
    "def maximumWealth(accounts: List[List[int]]) -> int:\n",
    "    if not accounts:    # 이게 있는 것이 더 빠름\n",
    "        return \n",
    "    max_val = 0\n",
    "    for idx in range(len(accounts)):\n",
    "        if sum(accounts[idx]) > max_val:\n",
    "            max_val = sum(accounts[idx])\n",
    "            \n",
    "    return max_val"
   ]
  },
  {
   "cell_type": "markdown",
   "metadata": {},
   "source": [
    "### Design HashSet (12/20)\n",
    "https://leetcode.com/explore/learn/card/hash-table/182/practical-applications/1139/"
   ]
  },
  {
   "cell_type": "code",
   "execution_count": null,
   "metadata": {},
   "outputs": [],
   "source": [
    "class MyHashSet:\n",
    "    def __init__(self):\n",
    "        \"\"\"\n",
    "        Initialize your data structure here.\n",
    "        \"\"\"\n",
    "        self.hashes = []\n",
    "        \n",
    "    def add(self, key: int) -> None:\n",
    "        self.hashes.append(key)\n",
    "\n",
    "    def remove(self, key: int) -> None:\n",
    "        while key in self.hashes:\n",
    "            self.hashes.remove(key)\n",
    "        \n",
    "    def contains(self, key: int) -> bool:\n",
    "        \"\"\"\n",
    "        Returns true if this set contains the specified element\n",
    "        \"\"\"\n",
    "        if key in self.hashes:\n",
    "            return True\n",
    "        else:\n",
    "            return False\n",
    "\n",
    "\n",
    "# Your MyHashSet object will be instantiated and called as such:\n",
    "# obj = MyHashSet()\n",
    "# obj.add(key)\n",
    "# obj.remove(key)\n",
    "# param_3 = obj.contains(key)"
   ]
  },
  {
   "cell_type": "markdown",
   "metadata": {},
   "source": [
    "### Design HashMap (12/20)\n",
    "https://leetcode.com/explore/learn/card/hash-table/182/practical-applications/1140/"
   ]
  },
  {
   "cell_type": "code",
   "execution_count": null,
   "metadata": {},
   "outputs": [],
   "source": [
    "class MyHashMap:\n",
    "    def __init__(self):\n",
    "        \"\"\"\n",
    "        Initialize your data structure here.\n",
    "        \"\"\"\n",
    "        self.hashes = {}\n",
    "\n",
    "    def put(self, key: int, value: int) -> None:\n",
    "        \"\"\"\n",
    "        value will always be non-negative.\n",
    "        \"\"\"\n",
    "        self.hashes[key] = value\n",
    "        \n",
    "\n",
    "    def get(self, key: int) -> int:\n",
    "        \"\"\"\n",
    "        Returns the value to which the specified key is mapped, or -1 if this map contains no mapping for the key\n",
    "        \"\"\"\n",
    "        if key not in self.hashes.keys():\n",
    "            return -1      \n",
    "        else:\n",
    "            return self.hashes[key]\n",
    "\n",
    "        \n",
    "    def remove(self, key: int) -> None:\n",
    "        \"\"\"\n",
    "        Removes the mapping of the specified value key if this map contains a mapping for the key\n",
    "        \"\"\"\n",
    "        if key in self.hashes.keys():\n",
    "            del self.hashes[key]\n",
    "            \n",
    "        else:\n",
    "            return -1\n",
    "\n",
    "\n",
    "# Your MyHashMap object will be instantiated and called as such:\n",
    "# obj = MyHashMap()\n",
    "# obj.put(key,value)\n",
    "# param_2 = obj.get(key)\n",
    "# obj.remove(key)"
   ]
  },
  {
   "cell_type": "markdown",
   "metadata": {},
   "source": [
    "### Intersection of Two Arrays (12/20)\n",
    "https://leetcode.com/explore/learn/card/hash-table/183/combination-with-other-algorithms/1105/"
   ]
  },
  {
   "cell_type": "code",
   "execution_count": null,
   "metadata": {},
   "outputs": [],
   "source": [
    "def intersection(nums1: List[int], nums2: List[int]) -> List[int]:\n",
    "    ret = []\n",
    "    for i in nums1:\n",
    "        if (i in nums2) & (i not in ret):\n",
    "            ret.append(i)\n",
    "\n",
    "    return ret"
   ]
  },
  {
   "cell_type": "markdown",
   "metadata": {},
   "source": [
    "### 최소공배수 return하기 (12/20)\n",
    "1. 받은 array의 최대공약수를 찾은 다음, 그 공약수 1개와 그 공약수로 나눈 값(나머지가 0이 되는)을 전부 곱하면 최대 공배수가 됨<br>\n",
    "2. 공약수를 유클리드 호제법으로 구하면..<br>\n",
    "1) 큰 값을 작은 값으로 나눔<br>\n",
    "2) 나머지가 0이 아니라면, 위의 연산에서 나눈 값(이전의 작은 값)을 다시 새로운 value로 두고, 이번 연산의 나머지를 새로운 divisor로 둠<br>\n",
    "3) 이렇게 recursion 실행<br>"
   ]
  },
  {
   "cell_type": "code",
   "execution_count": null,
   "metadata": {},
   "outputs": [],
   "source": [
    "def gcm(value, divisor):\n",
    "    if value % divisor == 0:\n",
    "        return divisor \n",
    "    \n",
    "    elif value % divisor in [1,2,3]:\n",
    "        return value % divisor\n",
    "    \n",
    "    else:    # (value % divisor)가 4이상의 값일 경우\n",
    "        value = divisor                         # 이전의 divisor를 나눌 값에 두고\n",
    "        remainder = value % divisor             # 이전 연산의 나머지를 새로운 divisor로 둔다\n",
    "        gcm(value, remainder)"
   ]
  },
  {
   "cell_type": "code",
   "execution_count": null,
   "metadata": {},
   "outputs": [],
   "source": [
    "def least_common_multiple(arr):\n",
    "    candies = []                      # candidates for great common measure \n",
    "    divisor = min(arr)\n",
    "    for i in arr:\n",
    "        candies.append(gcm(i, divisor))\n",
    "        \n",
    "    real_gcm = min(candies)\n",
    "    others = []\n",
    "    for i in arr:\n",
    "        others.append(i / real_gcm)\n",
    "        \n",
    "    for i in others:\n",
    "        real_gcm *= i\n",
    "        \n",
    "    return int(real_gcm)"
   ]
  },
  {
   "cell_type": "code",
   "execution_count": null,
   "metadata": {},
   "outputs": [],
   "source": [
    "a = [2,6,8,14]\n",
    "least_common_multiple(a)        # 168"
   ]
  },
  {
   "cell_type": "code",
   "execution_count": null,
   "metadata": {},
   "outputs": [],
   "source": [
    "b = [1,2,3]\n",
    "least_common_multiple(b)        # 6"
   ]
  },
  {
   "cell_type": "markdown",
   "metadata": {},
   "source": [
    "### Isomorphic Strings (12/20)\n",
    "https://leetcode.com/problems/isomorphic-strings/"
   ]
  },
  {
   "cell_type": "code",
   "execution_count": null,
   "metadata": {},
   "outputs": [],
   "source": [
    "def isIsomorphic(s: str, t: str) -> bool:\n",
    "    check1, check2 = {}, {}\n",
    "    lst1, lst2 = [], []\n",
    "\n",
    "    for idx,value in enumerate(s):\n",
    "        if value not in check1.keys():\n",
    "            check1[value] = idx\n",
    "\n",
    "    for idx,value in enumerate(t):\n",
    "        if value not in check2.keys():\n",
    "            check2[value] = idx\n",
    "\n",
    "    for i in s:\n",
    "        lst1.append(check1[i])\n",
    "\n",
    "    for i in t:\n",
    "        lst2.append(check2[i])\n",
    "\n",
    "    return True if lst1==lst2 else False"
   ]
  },
  {
   "cell_type": "markdown",
   "metadata": {},
   "source": [
    "### Minimum Index Sum of Two Lists (12/20)\n",
    "https://leetcode.com/explore/learn/card/hash-table/184/comparison-with-other-data-structures/1177/"
   ]
  },
  {
   "cell_type": "code",
   "execution_count": null,
   "metadata": {},
   "outputs": [],
   "source": [
    "def findRestaurant(list1: List[str], list2: List[str]) -> List[str]:\n",
    "    if (list1 == list2) and (len(list1)==1):\n",
    "        return list1\n",
    "    \n",
    "    set_list = set(list1) & set(list2)\n",
    "    check, indices = [], []\n",
    "    for name in set_list:\n",
    "        indices.append(list1.index(name) + list2.index(name))\n",
    "        check.append(name)\n",
    "        \n",
    "    if len(set(indices)) == 1:\n",
    "        return check\n",
    "    \n",
    "    else:\n",
    "        return [check[indices.index(min(indices))]]"
   ]
  },
  {
   "cell_type": "code",
   "execution_count": null,
   "metadata": {},
   "outputs": [],
   "source": [
    "a1 = [\"Shogun\",\"Tapioca Express\",\"Burger King\",\"KFC\"]\n",
    "a2 = [\"Piatti\",\"The Grill at Torrey Pines\",\"Hungry Hunter Steakhouse\",\"Shogun\"]\n",
    "findRestaurant(a1, a2)"
   ]
  },
  {
   "cell_type": "code",
   "execution_count": null,
   "metadata": {},
   "outputs": [],
   "source": [
    "b1 = [\"Shogun\",\"Tapioca Express\",\"Burger King\",\"KFC\"]\n",
    "b2 = [\"KFC\",\"Shogun\",\"Burger King\"]\n",
    "findRestaurant(b1, b2)"
   ]
  },
  {
   "cell_type": "code",
   "execution_count": null,
   "metadata": {},
   "outputs": [],
   "source": [
    "c1 =  [\"Shogun\",\"Tapioca Express\",\"Burger King\",\"KFC\"]\n",
    "c2 = [\"KFC\",\"Burger King\",\"Tapioca Express\",\"Shogun\"]\n",
    "findRestaurant(c1, c2)"
   ]
  },
  {
   "cell_type": "code",
   "execution_count": null,
   "metadata": {},
   "outputs": [],
   "source": [
    "d1 = [\"Shogun\",\"Tapioca Express\",\"Burger King\",\"KFC\"]\n",
    "d2 = [\"KNN\",\"KFC\",\"Burger King\",\"Tapioca Express\",\"Shogun\"]\n",
    "findRestaurant(d1, d2)"
   ]
  },
  {
   "cell_type": "code",
   "execution_count": null,
   "metadata": {},
   "outputs": [],
   "source": [
    "e1 = ['KFC']\n",
    "e2 = ['KFC']\n",
    "findRestaurant(e1, e2)"
   ]
  },
  {
   "cell_type": "markdown",
   "metadata": {},
   "source": [
    "### Group Anagrams (12/20)\n",
    "https://leetcode.com/problems/group-anagrams/<br>\n",
    "1. 하나의 리스트안에 담겨있는 anagrams를 리스트 안에 나눠 넣기<br>"
   ]
  },
  {
   "cell_type": "code",
   "execution_count": 193,
   "metadata": {},
   "outputs": [],
   "source": [
    "## Runtime: 1136ms // faster than 5.05%\n",
    "## Memory usage: 22mb // less than 7.90% \n",
    "def groupAnagrams(strs: List[str]) -> List[List[str]]:\n",
    "    if len(strs) == 1:\n",
    "        return [strs]\n",
    "    \n",
    "    from collections import Counter\n",
    "    word_dict = {}\n",
    "    \n",
    "    for idx,word in enumerate(strs):    \n",
    "        cnts = Counter(word)\n",
    "        key = sorted([x for x in set(word)])\n",
    "        \n",
    "        for letter in sorted([x for x in set(word)]):\n",
    "            key.append(str(cnts[letter]))\n",
    "        \n",
    "        key = tuple(key)\n",
    "        if key in word_dict.keys():\n",
    "            word_dict[key].append(word)\n",
    "              \n",
    "        elif key not in word_dict.keys():\n",
    "            if key not in word_dict.values():\n",
    "                word_dict[key] = [word]\n",
    "            \n",
    "    ret = []\n",
    "    for i in word_dict.values():\n",
    "        ret.append(i)\n",
    "        \n",
    "    return ret\n",
    "#     return list(word_dict.values())   \n",
    "## 위의 ret을 지우고 주석처리된 return list(...)로 쓰면 더 느리고(1144ms), 메모리도 더 쓴다(22.2mb)"
   ]
  },
  {
   "cell_type": "code",
   "execution_count": 194,
   "metadata": {},
   "outputs": [
    {
     "data": {
      "text/plain": [
       "[['ddddddddddg'], ['dgggggggggg']]"
      ]
     },
     "execution_count": 194,
     "metadata": {},
     "output_type": "execute_result"
    }
   ],
   "source": [
    "e = [\"ddddddddddg\",\"dgggggggggg\"]\n",
    "groupAnagrams(e)      # [[\"ddddddddddg\"],[\"dgggggggggg\"]]"
   ]
  },
  {
   "cell_type": "code",
   "execution_count": null,
   "metadata": {},
   "outputs": [],
   "source": [
    "a = [\"eat\",\"tea\",\"tan\",\"ate\",\"nat\",\"bat\"]\n",
    "groupAnagrams(a)   # [[\"bat\"],[\"nat\",\"tan\"],[\"ate\",\"eat\",\"tea\"]]"
   ]
  },
  {
   "cell_type": "code",
   "execution_count": null,
   "metadata": {},
   "outputs": [],
   "source": [
    "b = [\"\"]\n",
    "groupAnagrams(b)    # [[\"\"]]"
   ]
  },
  {
   "cell_type": "code",
   "execution_count": null,
   "metadata": {},
   "outputs": [],
   "source": [
    "c = [\"a\"]\n",
    "groupAnagrams(c)   # [[\"a\"]]"
   ]
  }
 ],
 "metadata": {
  "kernelspec": {
   "display_name": "Python 3",
   "language": "python",
   "name": "python3"
  },
  "language_info": {
   "codemirror_mode": {
    "name": "ipython",
    "version": 3
   },
   "file_extension": ".py",
   "mimetype": "text/x-python",
   "name": "python",
   "nbconvert_exporter": "python",
   "pygments_lexer": "ipython3",
   "version": "3.8.5"
  }
 },
 "nbformat": 4,
 "nbformat_minor": 4
}
