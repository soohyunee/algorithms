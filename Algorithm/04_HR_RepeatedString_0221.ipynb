{
 "cells": [
  {
   "cell_type": "markdown",
   "metadata": {},
   "source": [
    "https://www.hackerrank.com/challenges/repeated-string/problem?h_l=interview&playlist_slugs%5B%5D=interview-preparation-kit&playlist_slugs%5B%5D=warmup"
   ]
  },
  {
   "cell_type": "code",
   "execution_count": 1,
   "metadata": {},
   "outputs": [],
   "source": [
    "import math\n",
    "import os\n",
    "import random\n",
    "import re\n",
    "import sys"
   ]
  },
  {
   "cell_type": "code",
   "execution_count": null,
   "metadata": {},
   "outputs": [],
   "source": [
    "# Complete the repeatedString function below.\n",
    "def repeatedString(s, n):\n",
    "    assert str == type(s)\n",
    "    assert 1 <= len(s) <= 100\n",
    "    assert 1 <= n <= 10**12\n",
    "    \n",
    "    if (len(s) == 1) and (s == \"a\"):\n",
    "        return n\n",
    "    \n",
    "    elif (len(s) == 1) and (s != \"a\"):\n",
    "        return 0\n",
    "    \n",
    "    else:\n",
    "        cnt = 0\n",
    "        list_s = list(s)\n",
    "\n",
    "        quotient, remainder = divmod(n, len(s))\n",
    "        print(quotient, remainder)\n",
    "\n",
    "        str_to_search = \"a\"\n",
    "        list_s[:remainder]\n",
    "        \n",
    "        for i in list_s:\n",
    "            if i == str_to_search:\n",
    "                cnt += 1\n",
    "            else:\n",
    "                continue\n",
    "                \n",
    "        cnt = cnt * quotient\n",
    "\n",
    "        for i in list_s[:remainder]:\n",
    "            if i == str_to_search:\n",
    "                cnt += 1\n",
    "\n",
    "    return cnt"
   ]
  },
  {
   "cell_type": "code",
   "execution_count": 5,
   "metadata": {},
   "outputs": [
    {
     "name": "stdin",
     "output_type": "stream",
     "text": [
      " ceebbcb\n",
      " 817723\n"
     ]
    },
    {
     "name": "stdout",
     "output_type": "stream",
     "text": [
      "116817 4\n"
     ]
    },
    {
     "data": {
      "text/plain": [
       "350452"
      ]
     },
     "execution_count": 5,
     "metadata": {},
     "output_type": "execute_result"
    }
   ],
   "source": [
    "s = input()\n",
    "n = int(input())\n",
    "result = repeatedString(s, n)\n",
    "result"
   ]
  },
  {
   "cell_type": "code",
   "execution_count": null,
   "metadata": {},
   "outputs": [],
   "source": []
  }
 ],
 "metadata": {
  "kernelspec": {
   "display_name": "Python 3",
   "language": "python",
   "name": "python3"
  },
  "language_info": {
   "codemirror_mode": {
    "name": "ipython",
    "version": 3
   },
   "file_extension": ".py",
   "mimetype": "text/x-python",
   "name": "python",
   "nbconvert_exporter": "python",
   "pygments_lexer": "ipython3",
   "version": "3.7.3"
  }
 },
 "nbformat": 4,
 "nbformat_minor": 2
}
