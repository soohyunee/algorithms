{
 "cells": [
  {
   "cell_type": "code",
   "execution_count": 2,
   "metadata": {},
   "outputs": [],
   "source": [
    "from typing import List"
   ]
  },
  {
   "cell_type": "markdown",
   "metadata": {},
   "source": [
    "**Running Sum of 1d Array**<br>\n",
    "https://leetcode.com/problems/running-sum-of-1d-array/"
   ]
  },
  {
   "cell_type": "code",
   "execution_count": 3,
   "metadata": {},
   "outputs": [],
   "source": [
    "class Solution:\n",
    "    def runningSum(self, nums: List[int]) -> List[int]:\n",
    "        tmp = 0\n",
    "        a = []\n",
    "        for idx, value in enumerate(nums):\n",
    "            tmp += nums[idx]\n",
    "            a.append(tmp)\n",
    "            \n",
    "        return a"
   ]
  },
  {
   "cell_type": "markdown",
   "metadata": {},
   "source": [
    "**Shuffle the Array**<br>\n",
    "https://leetcode.com/problems/shuffle-the-array/"
   ]
  },
  {
   "cell_type": "code",
   "execution_count": 4,
   "metadata": {},
   "outputs": [],
   "source": [
    "class Solution:\n",
    "    def shuffle(self, nums: List[int], n: int) -> List[int]:\n",
    "        a = []\n",
    "        for x, y in zip(nums[:n+1], nums[n:]):\n",
    "            a.append(x)\n",
    "            a.append(y)\n",
    "            \n",
    "        return a"
   ]
  },
  {
   "cell_type": "markdown",
   "metadata": {},
   "source": [
    "**Kids With the Greatest Number of Candies**<br>\n",
    "https://leetcode.com/problems/kids-with-the-greatest-number-of-candies/"
   ]
  },
  {
   "cell_type": "code",
   "execution_count": 5,
   "metadata": {},
   "outputs": [],
   "source": [
    "class Solution:\n",
    "    def kidsWithCandies(self, candies: List[int], extraCandies: int) -> List[bool]:\n",
    "        greatest_value = max(candies)\n",
    "        def TF(x):\n",
    "            return True if x+extraCandies >= greatest_value else False\n",
    "        \n",
    "        return [TF(i) for i in candies]"
   ]
  },
  {
   "cell_type": "markdown",
   "metadata": {},
   "source": [
    "**Number of Steps to Reduce a Number to Zero**<br>\n",
    "https://leetcode.com/problems/number-of-steps-to-reduce-a-number-to-zero/"
   ]
  },
  {
   "cell_type": "code",
   "execution_count": 6,
   "metadata": {},
   "outputs": [],
   "source": [
    "class Solution:\n",
    "    def numberOfSteps (self, num: int) -> int:\n",
    "        if num == 0:\n",
    "            return 0\n",
    "        \n",
    "        step = 0\n",
    "        while num:\n",
    "            if num%2 == 0:\n",
    "                num = num//2\n",
    "                step += 1\n",
    "                \n",
    "            elif num == 1:\n",
    "                step += 1\n",
    "                return step\n",
    "                \n",
    "            else:\n",
    "                num = num - 1\n",
    "                step += 1"
   ]
  },
  {
   "cell_type": "markdown",
   "metadata": {},
   "source": [
    "**Jewels and Stones**<br>\n",
    "https://leetcode.com/problems/jewels-and-stones/"
   ]
  },
  {
   "cell_type": "code",
   "execution_count": 7,
   "metadata": {},
   "outputs": [],
   "source": [
    "class Solution:\n",
    "    def numJewelsInStones(self, J: str, S: str) -> int:\n",
    "        j = list(J)\n",
    "        s = list(S)\n",
    "        cnt = 0\n",
    "        \n",
    "        for str_s in s:\n",
    "            if str_s in j:\n",
    "                cnt += 1\n",
    "            \n",
    "            else:\n",
    "                continue\n",
    "                \n",
    "        return cnt"
   ]
  },
  {
   "cell_type": "markdown",
   "metadata": {},
   "source": [
    "**How Many Numbers Are Smaller Than the Current Number**<br>\n",
    "https://leetcode.com/problems/how-many-numbers-are-smaller-than-the-current-number/"
   ]
  },
  {
   "cell_type": "code",
   "execution_count": 8,
   "metadata": {},
   "outputs": [],
   "source": [
    "class Solution:\n",
    "    def smallerNumbersThanCurrent(self, nums: List[int]) -> List[int]:\n",
    "# my first solution : so so so time-consumed\n",
    "        res_list = []\n",
    "        import numpy as np\n",
    "        nums = np.array(nums)\n",
    "        for idx in range(len(nums)):\n",
    "            tmp = nums - nums[idx]\n",
    "            res = sum([1 if x < 0 else 0 for x in tmp])\n",
    "            res_list.append(res)\n",
    "            \n",
    "        return res_list"
   ]
  },
  {
   "cell_type": "code",
   "execution_count": 9,
   "metadata": {},
   "outputs": [],
   "source": [
    "class Solution:\n",
    "    def smallerNumbersThanCurrent(self, nums: List[int]) -> List[int]:\n",
    "# my second solution : this is still a time-consumed solution but better result than the former one\n",
    "        cnt = 0\n",
    "        lst = []\n",
    "        for idx1, value1 in enumerate(nums):\n",
    "            for idx2, value2 in enumerate(nums):\n",
    "                if idx1 == idx2:\n",
    "                    continue\n",
    "                    \n",
    "                else:\n",
    "                    if value2 < value1:\n",
    "                        cnt += 1\n",
    "                    else:\n",
    "                        continue\n",
    "            lst.append(cnt)\n",
    "            cnt = 0\n",
    "                        \n",
    "        return lst "
   ]
  }
 ],
 "metadata": {
  "kernelspec": {
   "display_name": "Python 3",
   "language": "python",
   "name": "python3"
  },
  "language_info": {
   "codemirror_mode": {
    "name": "ipython",
    "version": 3
   },
   "file_extension": ".py",
   "mimetype": "text/x-python",
   "name": "python",
   "nbconvert_exporter": "python",
   "pygments_lexer": "ipython3",
   "version": "3.7.7"
  }
 },
 "nbformat": 4,
 "nbformat_minor": 4
}
