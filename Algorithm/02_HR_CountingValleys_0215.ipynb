{
 "cells": [
  {
   "cell_type": "markdown",
   "metadata": {},
   "source": [
    "https://www.hackerrank.com/challenges/counting-valleys/problem?h_l=interview&playlist_slugs%5B%5D=interview-preparation-kit&playlist_slugs%5B%5D=warmup"
   ]
  },
  {
   "cell_type": "code",
   "execution_count": 26,
   "metadata": {},
   "outputs": [],
   "source": [
    "import math\n",
    "import os\n",
    "import random\n",
    "import re\n",
    "import sys"
   ]
  },
  {
   "cell_type": "code",
   "execution_count": null,
   "metadata": {},
   "outputs": [],
   "source": [
    "def countingValleys(n, s):\n",
    "    assert (n >= 2) and (n <= 10**6)\n",
    "    assert n == len(s)\n",
    "    assert {'D','U'} or {'U','D'} == set(s)\n",
    "    \n",
    "    altitude = 0\n",
    "    valley_path = [0 for x in range(len(s))]\n",
    "    valley_cnt = 0\n",
    "    below_sealevel = False\n",
    "    \n",
    "    for idx, i in enumerate(s):\n",
    "        if i == 'U':\n",
    "            altitude += 1\n",
    "            valley_path[idx] = altitude\n",
    "\n",
    "        else:\n",
    "            altitude -= 1\n",
    "            valley_path[idx] = altitude\n",
    "    \n",
    "    print(valley_path)\n",
    "    \n",
    "    for idx, i in enumerate(valley_path):\n",
    "        if idx+1 == len(valley_path):\n",
    "            if (i==0) and (below_sealevel):\n",
    "                valley_cnt += 1\n",
    "                return valley_cnt\n",
    "            \n",
    "            else:\n",
    "                return valley_cnt\n",
    "            \n",
    "        elif i < 0:\n",
    "            below_sealevel = True\n",
    "        \n",
    "        elif (i == 0) and (below_sealevel):\n",
    "            valley_cnt += 1\n",
    "            below_sealevel = False\n",
    "            \n",
    "        elif (i == 0) and (valley_path[idx+1] < 0):\n",
    "            below_sealevel = True\n",
    "            \n",
    "        else:\n",
    "            continue"
   ]
  },
  {
   "cell_type": "code",
   "execution_count": 36,
   "metadata": {},
   "outputs": [
    {
     "name": "stdin",
     "output_type": "stream",
     "text": [
      " 8\n",
      " UDDDUDUU\n"
     ]
    },
    {
     "name": "stdout",
     "output_type": "stream",
     "text": [
      "[1, 0, -1, -2, -1, -2, -1, 0]\n"
     ]
    },
    {
     "data": {
      "text/plain": [
       "1"
      ]
     },
     "execution_count": 36,
     "metadata": {},
     "output_type": "execute_result"
    }
   ],
   "source": [
    "n = int(input())\n",
    "s = input()\n",
    "result = countingValleys(n, s)\n",
    "result"
   ]
  },
  {
   "cell_type": "markdown",
   "metadata": {},
   "source": [
    "22 <br>UDDDDUUDDUUUDDDUUUUUDD<br><br>8<br>UDDDUDUU"
   ]
  }
 ],
 "metadata": {
  "kernelspec": {
   "display_name": "Python 3",
   "language": "python",
   "name": "python3"
  },
  "language_info": {
   "codemirror_mode": {
    "name": "ipython",
    "version": 3
   },
   "file_extension": ".py",
   "mimetype": "text/x-python",
   "name": "python",
   "nbconvert_exporter": "python",
   "pygments_lexer": "ipython3",
   "version": "3.7.3"
  }
 },
 "nbformat": 4,
 "nbformat_minor": 2
}
