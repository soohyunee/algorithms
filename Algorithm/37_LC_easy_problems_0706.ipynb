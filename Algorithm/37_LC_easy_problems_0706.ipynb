{
 "cells": [
  {
   "cell_type": "markdown",
   "metadata": {},
   "source": [
    "### split a string in balanced strings\n",
    "https://leetcode.com/problems/split-a-string-in-balanced-strings/"
   ]
  },
  {
   "cell_type": "code",
   "execution_count": 2,
   "metadata": {},
   "outputs": [],
   "source": [
    "class Solution:\n",
    "    def balancedStringSplit(self, s: str) -> int:\n",
    "        s = list(s)\n",
    "        cnt, tmp = 0, 0\n",
    "        # always balanced inputs라 가정하고 씀\n",
    "        for value in s:\n",
    "            if value == 'L':\n",
    "                tmp -= 1\n",
    "                if tmp == 0:\n",
    "                    cnt += 1                    \n",
    "                \n",
    "            elif value == 'R':\n",
    "                tmp += 1\n",
    "                if tmp == 0:\n",
    "                    cnt += 1\n",
    "                \n",
    "        return cnt"
   ]
  },
  {
   "cell_type": "markdown",
   "metadata": {},
   "source": [
    "### Maximum 69 Number\n",
    "https://leetcode.com/problems/maximum-69-number/submissions/"
   ]
  },
  {
   "cell_type": "code",
   "execution_count": 3,
   "metadata": {},
   "outputs": [],
   "source": [
    "class Solution:\n",
    "    def maximum69Number (self, num: int) -> int:\n",
    "        lst = [num]\n",
    "        idx, tmp = 0, 0\n",
    "        while idx < len(str(num)):\n",
    "            if str(num)[idx] == '6':\n",
    "                tmp = str(num)[:idx] + '9' + str(num)[idx+1:]\n",
    "                lst.append(int(tmp))\n",
    "                idx += 1\n",
    "                    \n",
    "            else:\n",
    "                tmp = str(num)[:idx] + '6' + str(num)[idx+1:]\n",
    "                lst.append(int(tmp))\n",
    "                idx += 1\n",
    "\n",
    "        return max(lst)"
   ]
  }
 ],
 "metadata": {
  "kernelspec": {
   "display_name": "Python 3",
   "language": "python",
   "name": "python3"
  },
  "language_info": {
   "codemirror_mode": {
    "name": "ipython",
    "version": 3
   },
   "file_extension": ".py",
   "mimetype": "text/x-python",
   "name": "python",
   "nbconvert_exporter": "python",
   "pygments_lexer": "ipython3",
   "version": "3.7.7"
  }
 },
 "nbformat": 4,
 "nbformat_minor": 4
}
