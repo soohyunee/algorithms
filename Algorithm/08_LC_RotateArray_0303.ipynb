{
 "cells": [
  {
   "cell_type": "markdown",
   "metadata": {},
   "source": [
    "https://leetcode.com/explore/featured/card/top-interview-questions-easy/92/array/646/"
   ]
  },
  {
   "cell_type": "markdown",
   "metadata": {},
   "source": [
    "k = non-negative integer<br>\n",
    "Note:<br>\n",
    "- Try to come up as many solutions as you can, there are at least 3 different ways to solve this problem.<br>\n",
    "- Could you do it in-place with O(1) extra space?"
   ]
  },
  {
   "cell_type": "code",
   "execution_count": 4,
   "metadata": {},
   "outputs": [],
   "source": [
    "from typing import List"
   ]
  },
  {
   "cell_type": "code",
   "execution_count": 12,
   "metadata": {},
   "outputs": [],
   "source": [
    "def rotate(nums: List[int], k: int) -> None:\n",
    "    \"\"\"\n",
    "    Do not return anything, modify nums in-place instead.\n",
    "    \"\"\"\n",
    "    len_nums = len(nums)\n",
    "    \n",
    "    for _ in range(k):\n",
    "        const = nums[-1]\n",
    "        nums[1:len_nums] = nums[0:len_nums-1]\n",
    "        nums[0] = const\n",
    "        \n",
    "    print(nums)"
   ]
  },
  {
   "cell_type": "code",
   "execution_count": 14,
   "metadata": {},
   "outputs": [
    {
     "name": "stdout",
     "output_type": "stream",
     "text": [
      "[5, 6, 7, 1, 2, 3, 4]\n"
     ]
    }
   ],
   "source": [
    "rotate(nums=[1,2,3,4,5,6,7], k=3)"
   ]
  }
 ],
 "metadata": {
  "kernelspec": {
   "display_name": "Python 3",
   "language": "python",
   "name": "python3"
  },
  "language_info": {
   "codemirror_mode": {
    "name": "ipython",
    "version": 3
   },
   "file_extension": ".py",
   "mimetype": "text/x-python",
   "name": "python",
   "nbconvert_exporter": "python",
   "pygments_lexer": "ipython3",
   "version": "3.7.3"
  }
 },
 "nbformat": 4,
 "nbformat_minor": 2
}
