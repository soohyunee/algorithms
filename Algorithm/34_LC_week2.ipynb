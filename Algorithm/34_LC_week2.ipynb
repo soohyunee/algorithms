{
 "cells": [
  {
   "cell_type": "markdown",
   "metadata": {},
   "source": [
    "### Last stone weight (solved. 04/13)\n",
    "https://leetcode.com/explore/challenge/card/30-day-leetcoding-challenge/529/week-2/3297/"
   ]
  },
  {
   "cell_type": "code",
   "execution_count": 1,
   "metadata": {},
   "outputs": [],
   "source": [
    "from typing import List\n",
    "\n",
    "def lastStoneWeight(stones: List[int]) -> int:\n",
    "    assert 1 <= len(stones) <= 30\n",
    "    \n",
    "    if len(stones) == 1:\n",
    "        return stones\n",
    "    \n",
    "    stones[:] = sorted(stones)                 # ascending 정렬\n",
    "    \n",
    "    while len(stones) > 1:                     # 1개가 남을때까지 while문이 돌도록\n",
    "        res = stones[-1] - stones[-2]          # 뒤에 있는 애들이 큰 숫자이므로, -1과 -2 indices\n",
    "        if res == 0:\n",
    "            stones.pop(-1)                     # 결과가 0이면 둘 다 부숴져야 하므로 둘 다 삭제\n",
    "            stones.pop(-1)\n",
    "            stones[:] = sorted(stones)         # 재 정렬\n",
    "            \n",
    "        elif res > 0:                          # 결과가 양수이면, 이때도 둘 다 삭제를 한 다음에, \n",
    "            stones.pop(-2)\n",
    "            stones.pop(-1)\n",
    "            stones.append(res)                 # 그 결과값을 다시 append 해줌. (남은 stone의 크기)\n",
    "            stones[:] = sorted(stones)\n",
    "            \n",
    "        else:\n",
    "            stones[:] = sorted(stones)\n",
    "            continue\n",
    "       \n",
    "    try:\n",
    "        return stones[-1]                      # 남은 값이 있으면 그 값을 리턴\n",
    "    \n",
    "    except:\n",
    "        return 0                               # 없으면 으앙 0 리턴"
   ]
  },
  {
   "cell_type": "code",
   "execution_count": 2,
   "metadata": {},
   "outputs": [
    {
     "data": {
      "text/plain": [
       "1"
      ]
     },
     "execution_count": 2,
     "metadata": {},
     "output_type": "execute_result"
    }
   ],
   "source": [
    "a = [2,7,4,1,8,1]\n",
    "lastStoneWeight(a)"
   ]
  },
  {
   "cell_type": "markdown",
   "metadata": {},
   "source": [
    "--------------------------------------------------------------------------------------------\n",
    "### Backspace string compare (solved:0416)\n",
    "https://leetcode.com/explore/challenge/card/30-day-leetcoding-challenge/529/week-2/3291/"
   ]
  },
  {
   "cell_type": "code",
   "execution_count": 6,
   "metadata": {},
   "outputs": [],
   "source": [
    "def backspaceCompare(S: str, T: str) -> bool:\n",
    "    idx = 0\n",
    "    S = list(S)                          # pop을 쓰기 위해\n",
    "    try:\n",
    "        while '#' in S:                  # '#'가 있는 동안은 계속 돌게\n",
    "            idx = S.index('#')\n",
    "            S.pop(idx)\n",
    "            if idx-1 < 0:\n",
    "                pass\n",
    "            else:\n",
    "                S.pop(idx-1)\n",
    "    except:                              # index 에러 날때가 있어서 씀\n",
    "        pass\n",
    "\n",
    "    idx = 0\n",
    "    T = list(T)\n",
    "    try:\n",
    "        while '#' in T:\n",
    "            idx = T.index('#')\n",
    "            T.pop(idx)\n",
    "            if idx-1 < 0:\n",
    "                pass\n",
    "            else:\n",
    "                T.pop(idx-1)\n",
    "    except:\n",
    "        pass\n",
    "\n",
    "    if (S==T) or (S==T==[]):               # 둘 다 None이어도 True여야 하므로\n",
    "        return True\n",
    "\n",
    "    else:\n",
    "        return False"
   ]
  },
  {
   "cell_type": "code",
   "execution_count": 7,
   "metadata": {},
   "outputs": [
    {
     "data": {
      "text/plain": [
       "True"
      ]
     },
     "execution_count": 7,
     "metadata": {},
     "output_type": "execute_result"
    }
   ],
   "source": [
    "backspaceCompare(S=\"ab##\",T=\"c#d#\")"
   ]
  },
  {
   "cell_type": "code",
   "execution_count": 8,
   "metadata": {},
   "outputs": [
    {
     "data": {
      "text/plain": [
       "False"
      ]
     },
     "execution_count": 8,
     "metadata": {},
     "output_type": "execute_result"
    }
   ],
   "source": [
    "backspaceCompare(S=\"a#c\",T=\"b\")"
   ]
  },
  {
   "cell_type": "markdown",
   "metadata": {},
   "source": [
    "--------------------------------------------------------------------------------\n",
    "### intersection of Two arrays II (solved: 0414) - (Not LC 30days challenge week2)\n",
    "https://leetcode.com/explore/interview/card/top-interview-questions-easy/92/array/674/"
   ]
  },
  {
   "cell_type": "code",
   "execution_count": 9,
   "metadata": {},
   "outputs": [],
   "source": [
    "from typing import List\n",
    "\n",
    "def intersect(nums1: List[int], nums2: List[int]) -> List[int]:\n",
    "    nums1 = sorted(nums1)\n",
    "    nums2 = sorted(nums2)\n",
    "    \n",
    "    res = []\n",
    "    for i in nums1:\n",
    "        if i in nums2:\n",
    "            res.append(i)\n",
    "            nums2.pop(nums2.index(i))\n",
    "\n",
    "    return res"
   ]
  },
  {
   "cell_type": "code",
   "execution_count": 10,
   "metadata": {},
   "outputs": [
    {
     "data": {
      "text/plain": [
       "[4, 9]"
      ]
     },
     "execution_count": 10,
     "metadata": {},
     "output_type": "execute_result"
    }
   ],
   "source": [
    "a = [4,9,5]\n",
    "b = [9,4,9,8,4]\n",
    "intersect(a,b)"
   ]
  },
  {
   "cell_type": "markdown",
   "metadata": {},
   "source": [
    "-------------------------------------------------------------------------------\n",
    "### Perform string shifts (solved:0416)\n",
    "https://leetcode.com/explore/challenge/card/30-day-leetcoding-challenge/529/week-2/3299/"
   ]
  },
  {
   "cell_type": "code",
   "execution_count": 11,
   "metadata": {},
   "outputs": [],
   "source": [
    "from typing import List\n",
    "\n",
    "def stringShift(s: str, shift: List[List[int]]) -> str:\n",
    "    assert 1 <= len(s) <= 100\n",
    "    assert 1 <= len(shift) <= 100\n",
    "    \n",
    "    if len(s) == 1:\n",
    "        return s\n",
    "    \n",
    "    s = list(s)\n",
    "    print(s)\n",
    "    for i in shift:\n",
    "        if i[0] == 0:                            # left\n",
    "            for j in range(i[1]):\n",
    "                tmp = s.pop(0)\n",
    "                s.append(tmp)\n",
    "                \n",
    "        else:                                     # right\n",
    "            for j in range(i[1]):\n",
    "                tmp = s.pop()\n",
    "                s[1:] = s[:]\n",
    "                s[0] = tmp\n",
    "\n",
    "    return ''.join([x for x in s])"
   ]
  },
  {
   "cell_type": "code",
   "execution_count": 12,
   "metadata": {},
   "outputs": [
    {
     "name": "stdout",
     "output_type": "stream",
     "text": [
      "['a', 'b', 'c']\n"
     ]
    },
    {
     "data": {
      "text/plain": [
       "'cab'"
      ]
     },
     "execution_count": 12,
     "metadata": {},
     "output_type": "execute_result"
    }
   ],
   "source": [
    "a = \"abc\"\n",
    "a1 = [[0,1],[1,2]]\n",
    "stringShift(s=a,shift=a1)"
   ]
  }
 ],
 "metadata": {
  "kernelspec": {
   "display_name": "Python 3",
   "language": "python",
   "name": "python3"
  },
  "language_info": {
   "codemirror_mode": {
    "name": "ipython",
    "version": 3
   },
   "file_extension": ".py",
   "mimetype": "text/x-python",
   "name": "python",
   "nbconvert_exporter": "python",
   "pygments_lexer": "ipython3",
   "version": "3.7.7"
  }
 },
 "nbformat": 4,
 "nbformat_minor": 4
}
