{
 "cells": [
  {
   "cell_type": "markdown",
   "metadata": {},
   "source": [
    "https://www.hackerrank.com/challenges/jumping-on-the-clouds/problem?h_l=interview&playlist_slugs%5B%5D=interview-preparation-kit&playlist_slugs%5B%5D=warmup"
   ]
  },
  {
   "cell_type": "code",
   "execution_count": 1,
   "metadata": {},
   "outputs": [],
   "source": [
    "import math\n",
    "import os\n",
    "import random\n",
    "import re\n",
    "import sys"
   ]
  },
  {
   "cell_type": "code",
   "execution_count": 11,
   "metadata": {},
   "outputs": [],
   "source": [
    "# Complete the jumpingOnClouds function below.\n",
    "def jumpingOnClouds(c):\n",
    "    assert 2 <= len(c) <= 100\n",
    "    assert ({0, 1} == set(c)) or ({0} == set(c))\n",
    "    assert (c[0] == 0) and (c[-1] == 0)\n",
    "    \n",
    "    jumping_idx = []\n",
    "    idx = 0\n",
    "    \n",
    "    while idx < len(c):\n",
    "        if c[idx] == 1:\n",
    "            idx = idx + 1\n",
    "            continue\n",
    "            \n",
    "        elif c[idx] == 0:\n",
    "            print(idx,'에서의 ',jumping_idx)\n",
    "            jumping_idx.append(idx)\n",
    "            if (idx+2 >= len(c)) or (c[idx+2] != 0) or(len(c)==2):\n",
    "                idx = idx + 1\n",
    "                \n",
    "            else:\n",
    "                idx = idx + 2\n",
    "            \n",
    "    print(jumping_idx)\n",
    "    return len(jumping_idx)-1"
   ]
  },
  {
   "cell_type": "code",
   "execution_count": 12,
   "metadata": {},
   "outputs": [
    {
     "name": "stdin",
     "output_type": "stream",
     "text": [
      " 2\n",
      " 0 0\n"
     ]
    },
    {
     "name": "stdout",
     "output_type": "stream",
     "text": [
      "0 에서의  []\n",
      "1 에서의  [0]\n",
      "[0, 1]\n"
     ]
    }
   ],
   "source": [
    "n = int(input())\n",
    "c = list(map(int, input().rstrip().split()))\n",
    "result = jumpingOnClouds(c)"
   ]
  }
 ],
 "metadata": {
  "kernelspec": {
   "display_name": "Python 3",
   "language": "python",
   "name": "python3"
  },
  "language_info": {
   "codemirror_mode": {
    "name": "ipython",
    "version": 3
   },
   "file_extension": ".py",
   "mimetype": "text/x-python",
   "name": "python",
   "nbconvert_exporter": "python",
   "pygments_lexer": "ipython3",
   "version": "3.7.3"
  }
 },
 "nbformat": 4,
 "nbformat_minor": 2
}
