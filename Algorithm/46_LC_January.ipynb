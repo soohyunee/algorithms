{
 "cells": [
  {
   "cell_type": "code",
   "execution_count": null,
   "metadata": {
    "_cell_guid": "b1076dfc-b9ad-4769-8c92-a6c4dae69d19",
    "_uuid": "8f2839f25d086af736a60e9eeb907d3b93b6e0e5"
   },
   "outputs": [],
   "source": [
    "from typing import List"
   ]
  },
  {
   "cell_type": "markdown",
   "metadata": {},
   "source": [
    "### Count Largest Group (01/02) \n",
    "https://leetcode.com/problems/count-largest-group/<br>\n",
    "1. 10 이후부터의 숫자는 그 summation의 위치에 맞게 들어가야 함<br>"
   ]
  },
  {
   "cell_type": "code",
   "execution_count": null,
   "metadata": {},
   "outputs": [],
   "source": [
    "## These codes are too inefficient, let's make them more efficiently..\n",
    "\n",
    "## Runtime: 192ms / faster than 5.28%\n",
    "## Memory usage: 14.4mb / less than 22.94%\n",
    "def countLargestGroup(n: int) -> int:\n",
    "    tmp_list, tmp_res = [], 0\n",
    "    ranges = list(range(1,n+1))\n",
    "    track = []\n",
    "    \n",
    "    while ranges:\n",
    "        value = ranges.pop(0)\n",
    "        \n",
    "        if value < 10:\n",
    "            track.append(value)\n",
    "            tmp_list.append([value])\n",
    "    \n",
    "        else:\n",
    "            for x in str(value):\n",
    "                tmp_res += int(x)\n",
    "                \n",
    "            if tmp_res not in track:\n",
    "                track.append(tmp_res)\n",
    "                tmp_list.append([value])\n",
    "                tmp_res = 0\n",
    "                \n",
    "            elif tmp_res in track:\n",
    "                tmp_list[tmp_res-1].append(value)\n",
    "                tmp_res = 0\n",
    "                \n",
    "       \n",
    "    max_len, cnt = 1, 0\n",
    "    for i in tmp_list:\n",
    "        if len(i) > max_len:\n",
    "            max_len = len(i)\n",
    "\n",
    "    for j in tmp_list:\n",
    "        if len(j) == max_len:\n",
    "            cnt += 1\n",
    "\n",
    "    return cnt"
   ]
  },
  {
   "cell_type": "code",
   "execution_count": null,
   "metadata": {},
   "outputs": [],
   "source": [
    "countLargestGroup(n=13)  # 4"
   ]
  },
  {
   "cell_type": "code",
   "execution_count": null,
   "metadata": {},
   "outputs": [],
   "source": [
    "countLargestGroup(n=2)  # 2"
   ]
  },
  {
   "cell_type": "code",
   "execution_count": null,
   "metadata": {},
   "outputs": [],
   "source": [
    "countLargestGroup(n=15)  # 6"
   ]
  },
  {
   "cell_type": "code",
   "execution_count": null,
   "metadata": {},
   "outputs": [],
   "source": [
    "countLargestGroup(n=24)  # 5"
   ]
  },
  {
   "cell_type": "code",
   "execution_count": null,
   "metadata": {},
   "outputs": [],
   "source": [
    "countLargestGroup(n=264)  # 2"
   ]
  },
  {
   "cell_type": "markdown",
   "metadata": {},
   "source": [
    "### K-th Missing Positive Number (1/6)\n",
    "https://leetcode.com/problems/kth-missing-positive-number/"
   ]
  },
  {
   "cell_type": "code",
   "execution_count": null,
   "metadata": {
    "_cell_guid": "79c7e3d0-c299-4dcb-8224-4455121ee9b0",
    "_uuid": "d629ff2d2480ee46fbb7e2d37f6b5fab8052498a"
   },
   "outputs": [],
   "source": [
    "## Runtime: 80ms / faster than 26.20%\n",
    "## Memory usage: 14.3mb / less than 63.22%\n",
    "def findKthPositive(arr: List[int], k: int) -> int:\n",
    "    max_num = max(arr)\n",
    "    whole_arr = list(range(1,max_num+1))\n",
    "    \n",
    "    for i in arr:\n",
    "        if i in whole_arr:\n",
    "            whole_arr.pop(whole_arr.index(i))\n",
    "        \n",
    "    if k < len(whole_arr):\n",
    "        return whole_arr[k-1]\n",
    "    \n",
    "    elif k == len(whole_arr):\n",
    "        return whole_arr[0]\n",
    "\n",
    "    else: # k > len(whole_arr)\n",
    "        for x in range(max_num+1,max_num+k+1):\n",
    "            whole_arr.append(x)\n",
    "        return whole_arr[k-1]"
   ]
  },
  {
   "cell_type": "code",
   "execution_count": null,
   "metadata": {},
   "outputs": [],
   "source": [
    "a = [2,3,4,7,11]\n",
    "findKthPositive(a,5)  # 9"
   ]
  },
  {
   "cell_type": "code",
   "execution_count": null,
   "metadata": {},
   "outputs": [],
   "source": [
    "b = [1,2,3,4]\n",
    "findKthPositive(b,2)  # 6"
   ]
  },
  {
   "cell_type": "code",
   "execution_count": null,
   "metadata": {},
   "outputs": [],
   "source": [
    "c = [2]\n",
    "findKthPositive(c,1)  # 1"
   ]
  },
  {
   "cell_type": "markdown",
   "metadata": {},
   "source": [
    "### Remove Duplicates from Sorted List (1/6일에 시도,못 풀었음)\n",
    "https://leetcode.com/problems/remove-duplicates-from-sorted-list/<br>"
   ]
  },
  {
   "cell_type": "code",
   "execution_count": null,
   "metadata": {},
   "outputs": [],
   "source": [
    "# ## https://leetcode.com/problems/remove-duplicates-from-sorted-list/discuss/998008/Python3%3A-No-list-conversion\n",
    "# def deleteDuplicates(head: ListNode) -> ListNode:\n",
    "#     if not head:\n",
    "#         return None\n",
    "\n",
    "#     curr = head\n",
    "#     prev = None\n",
    "\n",
    "#     while curr:\n",
    "#         if curr == head:\n",
    "#             prev = curr\n",
    "#             curr = curr.next\n",
    "#         else:\n",
    "#             if curr.val == prev.val:\n",
    "#                 prev.next = curr.next\n",
    "#                 curr = curr.next\n",
    "#             else:\n",
    "#                 prev = curr\n",
    "#                 curr = curr.next\n",
    "\n",
    "#     return head"
   ]
  },
  {
   "cell_type": "markdown",
   "metadata": {},
   "source": [
    "나는 head를 아예 next로 넘기면서, former 1개만 써서 하려고 해서 결론이 안났음<br> 왜냐하면 둘 다 이동시켜야 하는데, 그럼 linked-list 자체가 둘 다 불안정해질 수 밖에 없는데, 어느 1개는 완전체로 리턴을 해줘야하기 때문..<br>\n",
    "그리하여 찾아보니.. head는 아예 건들리지 않고 위에처럼 prev,curr의 2개 변수를 써서 풀었다.<br><br>\n",
    "궁금한 점이라면... 보면 딱히 head를 건드리는 부분이 없는데도, head가 변했다는게 신기함 @@..<br>"
   ]
  },
  {
   "cell_type": "markdown",
   "metadata": {},
   "source": [
    "### Longest Substring Without Repeating Characters\n",
    "https://leetcode.com/problems/longest-substring-without-repeating-characters/<br>\n",
    "1. return되는 substring 속의 letters는 전부 unique<br>\n",
    "2. "
   ]
  },
  {
   "cell_type": "code",
   "execution_count": null,
   "metadata": {},
   "outputs": [],
   "source": [
    "def lengthOfLongestSubstring(s: str) -> int:\n",
    "    if len(s) == 0:\n",
    "        return 0\n",
    "    \n",
    "    repeat_char = list(s[0])   # 전체 repeated char를 담음\n",
    "    former = s[0]        # 직전 letter만 담음\n",
    "    ret = 0\n",
    "    for i in s:\n",
    "        if (former == i) or (i in repeat_char):\n",
    "#             print('first retchar:', repeat_char)\n",
    "            if ret < len(repeat_char):\n",
    "                ret = len(repeat_char)\n",
    "#             print('value ret:', ret)\n",
    "#             print()\n",
    "            repeat_char = list(i)\n",
    "            continue\n",
    "        \n",
    "        else:\n",
    "            repeat_char.append(i)\n",
    "#             print('second:', repeat_char)\n",
    "#             print()\n",
    "            former = i\n",
    "            \n",
    "    return max(ret, len(repeat_char))"
   ]
  },
  {
   "cell_type": "code",
   "execution_count": null,
   "metadata": {},
   "outputs": [],
   "source": [
    "def lengthOfLongestSubstring(s: str) -> int:\n",
    "    if len(s) == 0:\n",
    "        return 0\n",
    "    \n",
    "    repeat_char = list(s[0])   # 전체 repeated char를 담음\n",
    "    former = s[0]        # 직전 letter만 담음\n",
    "    "
   ]
  },
  {
   "cell_type": "code",
   "execution_count": null,
   "metadata": {},
   "outputs": [],
   "source": [
    "a = \"abcabcbb\"\n",
    "lengthOfLongestSubstring(a)  # 3, \"abc\""
   ]
  },
  {
   "cell_type": "code",
   "execution_count": null,
   "metadata": {},
   "outputs": [],
   "source": [
    "b = \"bbbbb\"\n",
    "lengthOfLongestSubstring(b) # 1, \"b\""
   ]
  },
  {
   "cell_type": "code",
   "execution_count": null,
   "metadata": {},
   "outputs": [],
   "source": [
    "c = \"pwwkew\"\n",
    "lengthOfLongestSubstring(c)  # 3, \"wke\""
   ]
  },
  {
   "cell_type": "code",
   "execution_count": null,
   "metadata": {},
   "outputs": [],
   "source": [
    "d = \"\"\n",
    "lengthOfLongestSubstring(d)  # 0"
   ]
  },
  {
   "cell_type": "code",
   "execution_count": null,
   "metadata": {},
   "outputs": [],
   "source": [
    "e = \"dvdf\"\n",
    "lengthOfLongestSubstring(e)  # 3, vdf"
   ]
  },
  {
   "cell_type": "markdown",
   "metadata": {},
   "source": [
    "## Binary Tree Level Order Traversal\n",
    "https://leetcode.com/problems/binary-tree-level-order-traversal/"
   ]
  },
  {
   "cell_type": "code",
   "execution_count": null,
   "metadata": {},
   "outputs": [],
   "source": [
    "# Definition for a binary tree node.\n",
    "# class TreeNode:\n",
    "#     def __init__(self, val=0, left=None, right=None):\n",
    "#         self.val = val\n",
    "#         self.left = left\n",
    "#         self.right = right\n",
    "class Solution:\n",
    "    def levelOrder(self, root: TreeNode) -> List[List[int]]:\n",
    "        ret = [root.val]\n",
    "        level = 0\n",
    "        while ...something:\n",
    "            stride = 2 ** level\n",
    "            "
   ]
  },
  {
   "cell_type": "code",
   "execution_count": null,
   "metadata": {},
   "outputs": [],
   "source": []
  },
  {
   "cell_type": "code",
   "execution_count": null,
   "metadata": {},
   "outputs": [],
   "source": []
  },
  {
   "cell_type": "code",
   "execution_count": null,
   "metadata": {},
   "outputs": [],
   "source": [
    "    "
   ]
  }
 ],
 "metadata": {
  "kernelspec": {
   "display_name": "Python 3",
   "language": "python",
   "name": "python3"
  },
  "language_info": {
   "codemirror_mode": {
    "name": "ipython",
    "version": 3
   },
   "file_extension": ".py",
   "mimetype": "text/x-python",
   "name": "python",
   "nbconvert_exporter": "python",
   "pygments_lexer": "ipython3",
   "version": "3.8.5"
  }
 },
 "nbformat": 4,
 "nbformat_minor": 4
}
