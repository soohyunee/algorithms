{
 "cells": [
  {
   "cell_type": "code",
   "execution_count": 15,
   "metadata": {},
   "outputs": [],
   "source": [
    "import math\n",
    "import os\n",
    "import random\n",
    "import re\n",
    "import sys"
   ]
  },
  {
   "cell_type": "code",
   "execution_count": 30,
   "metadata": {},
   "outputs": [],
   "source": [
    "def sockMerchant(n, ar):\n",
    "    assert n == len(ar)\n",
    "    \n",
    "    if (n < 1) or (n > 100):\n",
    "        print('n must be a positive integer that is less than 100.')\n",
    "        return\n",
    "    \n",
    "    else:\n",
    "        numbers = set(ar)\n",
    "        num_dic = dict()\n",
    "        pair = 0\n",
    "        \n",
    "        for i in numbers:\n",
    "            if (int(i) < 1) or (int(i) > 100):\n",
    "                print('every single component of array must be a positive integer which is less than 100.')\n",
    "                return\n",
    "            else:\n",
    "                num_dic[i] = 0\n",
    "        \n",
    "        for i in ar:\n",
    "            num_dic[i] += 1\n",
    "            print('i:',i,'num_dic_i:', num_dic[i])\n",
    "        \n",
    "        print(num_dic)\n",
    "        \n",
    "        for _, value in num_dic.items():\n",
    "            if value >= 2:\n",
    "                pair += value // 2\n",
    "\n",
    "            else:\n",
    "                continue\n",
    "\n",
    "    return pair"
   ]
  },
  {
   "cell_type": "code",
   "execution_count": 31,
   "metadata": {},
   "outputs": [
    {
     "name": "stdin",
     "output_type": "stream",
     "text": [
      " 9\n",
      " 10 20 20 10 10 30 50 10 20\n"
     ]
    },
    {
     "name": "stdout",
     "output_type": "stream",
     "text": [
      "i: 10 num_dic_i: 1\n",
      "i: 20 num_dic_i: 1\n",
      "i: 20 num_dic_i: 2\n",
      "i: 10 num_dic_i: 2\n",
      "i: 10 num_dic_i: 3\n",
      "i: 30 num_dic_i: 1\n",
      "i: 50 num_dic_i: 1\n",
      "i: 10 num_dic_i: 4\n",
      "i: 20 num_dic_i: 3\n",
      "{10: 4, 20: 3, 50: 1, 30: 1}\n"
     ]
    },
    {
     "data": {
      "text/plain": [
       "3"
      ]
     },
     "execution_count": 31,
     "metadata": {},
     "output_type": "execute_result"
    }
   ],
   "source": [
    "n = int(input())\n",
    "ar = list(map(int, input().rstrip().split()))\n",
    "result = sockMerchant(n, ar)\n",
    "result"
   ]
  },
  {
   "cell_type": "code",
   "execution_count": null,
   "metadata": {},
   "outputs": [],
   "source": []
  }
 ],
 "metadata": {
  "kernelspec": {
   "display_name": "Python 3",
   "language": "python",
   "name": "python3"
  },
  "language_info": {
   "codemirror_mode": {
    "name": "ipython",
    "version": 3
   },
   "file_extension": ".py",
   "mimetype": "text/x-python",
   "name": "python",
   "nbconvert_exporter": "python",
   "pygments_lexer": "ipython3",
   "version": "3.7.3"
  }
 },
 "nbformat": 4,
 "nbformat_minor": 2
}
