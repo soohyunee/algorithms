{
 "cells": [
  {
   "cell_type": "markdown",
   "metadata": {},
   "source": [
    "## Word Pattern (09/23)\n",
    "https://leetcode.com/problems/word-pattern/submissions/"
   ]
  },
  {
   "cell_type": "code",
   "execution_count": 74,
   "metadata": {
    "_cell_guid": "b1076dfc-b9ad-4769-8c92-a6c4dae69d19",
    "_uuid": "8f2839f25d086af736a60e9eeb907d3b93b6e0e5"
   },
   "outputs": [],
   "source": [
    "class Solution:\n",
    "    def wordPattern(self, pattern: str, s: str) -> bool:\n",
    "        if len(list(pattern)) != len(s.split(' ')):\n",
    "            return False\n",
    "        \n",
    "        if len(set(list(pattern))) != len(set(s.split(' '))):\n",
    "            return False\n",
    "\n",
    "        match_dic = dict()\n",
    "        \n",
    "        for idx, word in enumerate(s.split()):   # 여기서 pattern이 s보다 짧을 경우 IndexError\n",
    "            try:\n",
    "                match_dic[word] = pattern[idx]\n",
    "            \n",
    "            except:\n",
    "                continue\n",
    "\n",
    "        check_match = ''\n",
    "        for word in s.split(' '): # 그리고 여기에서는, 인덱스에러로 해당 단어가 match_dic에 못들어가서 \n",
    "                                  # 단어 못차즘..\n",
    "            check_match += match_dic[word]\n",
    "    \n",
    "        return True if check_match == pattern else False"
   ]
  },
  {
   "cell_type": "code",
   "execution_count": 75,
   "metadata": {},
   "outputs": [
    {
     "data": {
      "text/plain": [
       "True"
      ]
     },
     "execution_count": 75,
     "metadata": {},
     "output_type": "execute_result"
    }
   ],
   "source": [
    "s = Solution()\n",
    "s.wordPattern(pattern='abba', s='dog cat cat dog')"
   ]
  },
  {
   "cell_type": "code",
   "execution_count": 76,
   "metadata": {},
   "outputs": [
    {
     "data": {
      "text/plain": [
       "False"
      ]
     },
     "execution_count": 76,
     "metadata": {},
     "output_type": "execute_result"
    }
   ],
   "source": [
    "s = Solution()\n",
    "s.wordPattern(pattern='aba', s='cat cat cat dog')"
   ]
  },
  {
   "cell_type": "markdown",
   "metadata": {},
   "source": [
    "### Maximum Product of Two Elements in an Array (10/18)\n",
    "https://leetcode.com/problems/maximum-product-of-two-elements-in-an-array/"
   ]
  },
  {
   "cell_type": "code",
   "execution_count": 78,
   "metadata": {},
   "outputs": [],
   "source": [
    "from typing import List\n",
    "def maxProduct(nums: List[int]) -> int:\n",
    "    nums = sorted(nums)\n",
    "    return (nums[-1]-1) * (nums[-2]-1)"
   ]
  },
  {
   "cell_type": "code",
   "execution_count": 79,
   "metadata": {},
   "outputs": [
    {
     "data": {
      "text/plain": [
       "12"
      ]
     },
     "execution_count": 79,
     "metadata": {},
     "output_type": "execute_result"
    }
   ],
   "source": [
    "a = [3,4,5,2]\n",
    "maxProduct(a) # 12"
   ]
  },
  {
   "cell_type": "code",
   "execution_count": 80,
   "metadata": {},
   "outputs": [
    {
     "data": {
      "text/plain": [
       "16"
      ]
     },
     "execution_count": 80,
     "metadata": {},
     "output_type": "execute_result"
    }
   ],
   "source": [
    "b = [1,5,4,5]\n",
    "maxProduct(b) # 16"
   ]
  },
  {
   "cell_type": "code",
   "execution_count": 81,
   "metadata": {},
   "outputs": [
    {
     "data": {
      "text/plain": [
       "12"
      ]
     },
     "execution_count": 81,
     "metadata": {},
     "output_type": "execute_result"
    }
   ],
   "source": [
    "c = [3,7]\n",
    "maxProduct(c) # 12"
   ]
  },
  {
   "cell_type": "markdown",
   "metadata": {},
   "source": [
    "### Count Negative Numbers in a Sorted Matrix (10/18)\n",
    "https://leetcode.com/problems/count-negative-numbers-in-a-sorted-matrix/"
   ]
  },
  {
   "cell_type": "code",
   "execution_count": 82,
   "metadata": {},
   "outputs": [],
   "source": [
    "# runtime: 124ms (faster than 66.14%) / 14.7mb (less than 99.48%) \n",
    "def countNegatives(grid: List[List[int]]) -> int:\n",
    "    cnt = 0\n",
    "    for vec in grid:\n",
    "        idx = -1\n",
    "        try:\n",
    "            while vec[idx] < 0:\n",
    "                cnt += 1\n",
    "                idx -= 1\n",
    "        except:\n",
    "            continue\n",
    "    return cnt"
   ]
  },
  {
   "cell_type": "code",
   "execution_count": 83,
   "metadata": {},
   "outputs": [
    {
     "data": {
      "text/plain": [
       "8"
      ]
     },
     "execution_count": 83,
     "metadata": {},
     "output_type": "execute_result"
    }
   ],
   "source": [
    "a = [[4,3,2,-1],[3,2,1,-1],[1,1,-1,-2],[-1,-1,-2,-3]]  \n",
    "countNegatives(a)  # 8"
   ]
  },
  {
   "cell_type": "code",
   "execution_count": 84,
   "metadata": {},
   "outputs": [
    {
     "data": {
      "text/plain": [
       "0"
      ]
     },
     "execution_count": 84,
     "metadata": {},
     "output_type": "execute_result"
    }
   ],
   "source": [
    "b = [[3,2],[1,0]]\n",
    "countNegatives(b) # 0"
   ]
  },
  {
   "cell_type": "code",
   "execution_count": 85,
   "metadata": {},
   "outputs": [
    {
     "data": {
      "text/plain": [
       "1"
      ]
     },
     "execution_count": 85,
     "metadata": {},
     "output_type": "execute_result"
    }
   ],
   "source": [
    "c = [[-1]]\n",
    "countNegatives(c) # 1"
   ]
  },
  {
   "cell_type": "markdown",
   "metadata": {},
   "source": [
    "## Matrix Diagonal Sum (10/17)\n",
    "https://leetcode.com/problems/matrix-diagonal-sum/"
   ]
  },
  {
   "cell_type": "code",
   "execution_count": 91,
   "metadata": {},
   "outputs": [],
   "source": [
    "## runtime : 168ms   / memory usage : 30.3 mb\n",
    "def diagonalSum(mat: List[List[int]]) -> int: \n",
    "    import numpy as np\n",
    "    res1 = np.trace(mat)\n",
    "    len_mat = len(mat)\n",
    "\n",
    "    for i in reversed(mat):\n",
    "        mat.append(i)\n",
    "\n",
    "    mat = mat[len_mat:]\n",
    "    res2 = np.trace(reversed(mat))\n",
    "    res = res1+res2\n",
    "\n",
    "    if len(mat) % 2 == 1:   # if odd number of matrix\n",
    "        mid = len(mat)//2\n",
    "        return res - mat[mid][mid]\n",
    "    return res"
   ]
  },
  {
   "cell_type": "code",
   "execution_count": 92,
   "metadata": {},
   "outputs": [],
   "source": [
    "## runtime : 104ms   / memory usage : 14.3 mb\n",
    "def diagonalSum(mat: List[List[int]]) -> int:\n",
    "    idx, res = 0, 0\n",
    "    while idx < len(mat):\n",
    "        res += mat[idx][idx]\n",
    "        res += mat[idx][len(mat)-idx-1]\n",
    "        idx += 1\n",
    "        \n",
    "    if len(mat) % 2 == 1:\n",
    "        return res-mat[len(mat)//2][len(mat)//2]\n",
    "    return res"
   ]
  },
  {
   "cell_type": "code",
   "execution_count": 93,
   "metadata": {},
   "outputs": [
    {
     "data": {
      "text/plain": [
       "25"
      ]
     },
     "execution_count": 93,
     "metadata": {},
     "output_type": "execute_result"
    }
   ],
   "source": [
    "a = [[1,2,3],[4,5,6],[7,8,9]]\n",
    "diagonalSum(a) # 25"
   ]
  },
  {
   "cell_type": "code",
   "execution_count": 94,
   "metadata": {},
   "outputs": [
    {
     "data": {
      "text/plain": [
       "8"
      ]
     },
     "execution_count": 94,
     "metadata": {},
     "output_type": "execute_result"
    }
   ],
   "source": [
    "b = [[1,1,1,1],[1,1,1,1],[1,1,1,1],[1,1,1,1]]\n",
    "diagonalSum(b)  # 8 "
   ]
  },
  {
   "cell_type": "code",
   "execution_count": 95,
   "metadata": {},
   "outputs": [
    {
     "data": {
      "text/plain": [
       "5"
      ]
     },
     "execution_count": 95,
     "metadata": {},
     "output_type": "execute_result"
    }
   ],
   "source": [
    "c = [[5]]\n",
    "diagonalSum(c)  # 5"
   ]
  },
  {
   "cell_type": "code",
   "execution_count": 96,
   "metadata": {},
   "outputs": [
    {
     "data": {
      "text/plain": [
       "55"
      ]
     },
     "execution_count": 96,
     "metadata": {},
     "output_type": "execute_result"
    }
   ],
   "source": [
    "d = [[7,3,1,9],\n",
    "     [3,4,6,9],\n",
    "     [6,9,6,6],\n",
    "     [9,5,8,5]]\n",
    "diagonalSum(d)  # 55"
   ]
  },
  {
   "cell_type": "markdown",
   "metadata": {},
   "source": [
    "### Search a 2D Matrix (10/18)\n",
    "https://leetcode.com/problems/search-a-2d-matrix/"
   ]
  },
  {
   "cell_type": "code",
   "execution_count": 97,
   "metadata": {},
   "outputs": [],
   "source": [
    "# runtime 244ms / memory usage : 30.2mb\n",
    "# memory usage는 84%보다 적게 썼는데, runtime은 고작 5%보다만 빠름\n",
    "\n",
    "from typing import List\n",
    "def searchMatrix(matrix: List[List[int]], target: int) -> bool:\n",
    "    if matrix == [] or matrix[0] == []: \n",
    "        return False\n",
    "       \n",
    "    import numpy as np\n",
    "    matrix = np.array(matrix)\n",
    "    if target in matrix: return True\n",
    "    else: return False"
   ]
  },
  {
   "cell_type": "code",
   "execution_count": 98,
   "metadata": {},
   "outputs": [
    {
     "data": {
      "text/plain": [
       "True"
      ]
     },
     "execution_count": 98,
     "metadata": {},
     "output_type": "execute_result"
    }
   ],
   "source": [
    "a = [[1,3,5,7],[10,11,16,20],[23,30,34,50]]\n",
    "searchMatrix(matrix=a, target=3)  # True"
   ]
  },
  {
   "cell_type": "code",
   "execution_count": 99,
   "metadata": {},
   "outputs": [
    {
     "data": {
      "text/plain": [
       "False"
      ]
     },
     "execution_count": 99,
     "metadata": {},
     "output_type": "execute_result"
    }
   ],
   "source": [
    "b = [[1,3,5,7],[10,11,16,20],[23,30,34,50]]\n",
    "searchMatrix(matrix=b, target=13)  # False"
   ]
  },
  {
   "cell_type": "code",
   "execution_count": 100,
   "metadata": {},
   "outputs": [
    {
     "data": {
      "text/plain": [
       "False"
      ]
     },
     "execution_count": 100,
     "metadata": {},
     "output_type": "execute_result"
    }
   ],
   "source": [
    "c = []\n",
    "searchMatrix(matrix=c, target=0)  # False"
   ]
  },
  {
   "cell_type": "code",
   "execution_count": 101,
   "metadata": {},
   "outputs": [
    {
     "data": {
      "text/plain": [
       "False"
      ]
     },
     "execution_count": 101,
     "metadata": {},
     "output_type": "execute_result"
    }
   ],
   "source": [
    "d = [[]]\n",
    "searchMatrix(matrix=d, target=1)  # False"
   ]
  },
  {
   "cell_type": "code",
   "execution_count": 102,
   "metadata": {},
   "outputs": [
    {
     "data": {
      "text/plain": [
       "True"
      ]
     },
     "execution_count": 102,
     "metadata": {},
     "output_type": "execute_result"
    }
   ],
   "source": [
    "e = [[1]]\n",
    "searchMatrix(matrix=e, target=1)  # True"
   ]
  },
  {
   "cell_type": "code",
   "execution_count": 103,
   "metadata": {},
   "outputs": [
    {
     "data": {
      "text/plain": [
       "True"
      ]
     },
     "execution_count": 103,
     "metadata": {},
     "output_type": "execute_result"
    }
   ],
   "source": [
    "f = [[1,1]]\n",
    "searchMatrix(matrix=f, target=1)  # True"
   ]
  },
  {
   "cell_type": "code",
   "execution_count": 104,
   "metadata": {},
   "outputs": [
    {
     "data": {
      "text/plain": [
       "True"
      ]
     },
     "execution_count": 104,
     "metadata": {},
     "output_type": "execute_result"
    }
   ],
   "source": [
    "g = [[1],[3]]\n",
    "searchMatrix(matrix=g, target=3)  # True"
   ]
  }
 ],
 "metadata": {
  "kernelspec": {
   "display_name": "Python 3",
   "language": "python",
   "name": "python3"
  },
  "language_info": {
   "codemirror_mode": {
    "name": "ipython",
    "version": 3
   },
   "file_extension": ".py",
   "mimetype": "text/x-python",
   "name": "python",
   "nbconvert_exporter": "python",
   "pygments_lexer": "ipython3",
   "version": "3.8.5"
  }
 },
 "nbformat": 4,
 "nbformat_minor": 4
}
