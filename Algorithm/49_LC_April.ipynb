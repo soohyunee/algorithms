{
 "cells": [
  {
   "cell_type": "code",
   "execution_count": null,
   "metadata": {
    "_cell_guid": "b1076dfc-b9ad-4769-8c92-a6c4dae69d19",
    "_uuid": "8f2839f25d086af736a60e9eeb907d3b93b6e0e5"
   },
   "outputs": [],
   "source": [
    "import numpy as np"
   ]
  },
  {
   "cell_type": "markdown",
   "metadata": {},
   "source": [
    "## 나누어 떨어지는 숫자 배열 (04/02)<br>\n",
    "https://programmers.co.kr/learn/courses/30/lessons/12910?language=python3"
   ]
  },
  {
   "cell_type": "code",
   "execution_count": null,
   "metadata": {},
   "outputs": [],
   "source": [
    "def solution(arr, divisor):\n",
    "    answer = []\n",
    "    for i in arr:\n",
    "        if i % divisor == 0:\n",
    "            answer.append(i)\n",
    "    return sorted(answer) if answer != [] else [-1]"
   ]
  },
  {
   "cell_type": "code",
   "execution_count": null,
   "metadata": {},
   "outputs": [],
   "source": [
    "a = [5,10]\n",
    "solution(a, 5)"
   ]
  },
  {
   "cell_type": "code",
   "execution_count": null,
   "metadata": {},
   "outputs": [],
   "source": [
    "b = [1,2,3,36]\n",
    "solution(b, 1)"
   ]
  },
  {
   "cell_type": "code",
   "execution_count": null,
   "metadata": {},
   "outputs": [],
   "source": [
    "c = [3,2,6]\n",
    "solution(c,10)"
   ]
  },
  {
   "cell_type": "code",
   "execution_count": null,
   "metadata": {},
   "outputs": [],
   "source": [
    "d = [2,36,1,3]\n",
    "solution(d,1)"
   ]
  },
  {
   "cell_type": "markdown",
   "metadata": {},
   "source": [
    "### Find Center of Star Graph (04/06)\n",
    "https://leetcode.com/problems/find-center-of-star-graph/<br>\n",
    "1. 해당 그래프는 반드시 star 모양이어야 함<br>\n",
    "즉, 한 edge만 common elem이 첫번째에 있어야하고<br>\n",
    "나머지 edges는 전부 common elem이 있는 자리 이외의 자리에 있어야 함<br>"
   ]
  },
  {
   "cell_type": "code",
   "execution_count": null,
   "metadata": {},
   "outputs": [],
   "source": [
    "## Runtime: 824ms / faster than 61.12%\n",
    "## Memory usage: 50.4mb / less than 21.85%\n",
    "from typing import List\n",
    "def findCenter(edges: List[List[int]]) -> int:\n",
    "    from collections import Counter\n",
    "    flatten_tmp = []\n",
    "    for edge in edges:\n",
    "        flatten_tmp.extend(edge)\n",
    "    cnt_tmp = Counter(flatten_tmp)\n",
    "    for k,v in cnt_tmp.items():\n",
    "        if v == len(edges):\n",
    "            return k"
   ]
  },
  {
   "cell_type": "code",
   "execution_count": null,
   "metadata": {},
   "outputs": [],
   "source": [
    "## Runtime: 904ms / faster than 35.11%\n",
    "## Memory usage: 50.2mb / less than 67.19%\n",
    "from typing import List\n",
    "def findCenter(edges: List[List[int]]) -> int:\n",
    "    cnt_dict = {}\n",
    "    for edge in edges:\n",
    "        for e in edge:\n",
    "            try:\n",
    "                cnt_dict[e] += 1\n",
    "            except:\n",
    "                cnt_dict[e] = 1\n",
    "    for k,v in cnt_dict.items():\n",
    "        if v == len(edges):\n",
    "            return k"
   ]
  },
  {
   "cell_type": "code",
   "execution_count": null,
   "metadata": {},
   "outputs": [],
   "source": [
    "a = [[1,2],[2,3],[4,2]]\n",
    "findCenter(a)"
   ]
  },
  {
   "cell_type": "code",
   "execution_count": null,
   "metadata": {},
   "outputs": [],
   "source": [
    "b = [[1,2],[5,1],[1,3],[1,4]]\n",
    "findCenter(b)"
   ]
  },
  {
   "cell_type": "markdown",
   "metadata": {},
   "source": [
    "### Distant Barcodes (4/27)\n",
    "https://leetcode.com/problems/distant-barcodes/<br>\n",
    "1. even index와 odd index를 분리함. range로 만듬<br>\n",
    "2. Counter()를 씌운 dict가 높은 것부터 나오게 순서대로 만듬<br>\n",
    "3. 2번을 굴리면서 even index 먼저 쓰고, 나머지는 odd index에 넣도록 함<br>"
   ]
  },
  {
   "cell_type": "code",
   "execution_count": null,
   "metadata": {},
   "outputs": [],
   "source": [
    "##Runtime: 528ms / faster than 20.20%\n",
    "##Memory usage: 16.4mb / less than 62.96%\n",
    "from typing import List\n",
    "from collections import Counter\n",
    "def rearrangeBarcodes(barcodes: List[int]) -> List[int]:\n",
    "    even_list = list(range(0,len(barcodes),2))\n",
    "    odd_list = list(range(1,len(barcodes),2))\n",
    "    ret_list = [0] * len(barcodes)\n",
    "    cnt_bars = Counter(barcodes)\n",
    "    for (k,_) in cnt_bars.most_common():\n",
    "        while cnt_bars[k] > 0:\n",
    "            try:\n",
    "                tmp_idx = even_list.pop(0)\n",
    "                ret_list[tmp_idx] = k\n",
    "                cnt_bars[k] -= 1\n",
    "            except:\n",
    "                tmp_idx = odd_list.pop(0)\n",
    "                ret_list[tmp_idx] = k\n",
    "                cnt_bars[k] -= 1\n",
    "    return ret_list"
   ]
  },
  {
   "cell_type": "code",
   "execution_count": null,
   "metadata": {},
   "outputs": [],
   "source": [
    "a = [1,1,1,2,2,2]\n",
    "rearrangeBarcodes(a)"
   ]
  },
  {
   "cell_type": "code",
   "execution_count": null,
   "metadata": {},
   "outputs": [],
   "source": [
    "b = [1,1,1,1,2,2,3,3]\n",
    "rearrangeBarcodes(b)"
   ]
  },
  {
   "cell_type": "code",
   "execution_count": null,
   "metadata": {},
   "outputs": [],
   "source": [
    "c = [3,3,2,2,1,1,1,1]\n",
    "rearrangeBarcodes(c)"
   ]
  },
  {
   "cell_type": "code",
   "execution_count": null,
   "metadata": {},
   "outputs": [],
   "source": [
    "d = [2,2,1,3]\n",
    "rearrangeBarcodes(d)   # [2,1,2,3] or [2,3,2,1]"
   ]
  },
  {
   "cell_type": "code",
   "execution_count": null,
   "metadata": {},
   "outputs": [],
   "source": [
    "e = [7,7,7,8,5,7,5,5,5,8]\n",
    "rearrangeBarcodes(e)   # [5,7,5,7,5,7,5,8,7,8]"
   ]
  },
  {
   "cell_type": "code",
   "execution_count": null,
   "metadata": {},
   "outputs": [],
   "source": [
    "f = [2,1,1]\n",
    "rearrangeBarcodes(f)   # [1,2,1]"
   ]
  },
  {
   "cell_type": "markdown",
   "metadata": {},
   "source": [
    "### Group the People Given the Group Size They Belong To (04/16)\n",
    "https://leetcode.com/problems/group-the-people-given-the-group-size-they-belong-to/"
   ]
  },
  {
   "cell_type": "code",
   "execution_count": null,
   "metadata": {},
   "outputs": [],
   "source": [
    "## Runtime: 76 ms / faster than 70.68%\n",
    "## Memory usage: 14.4mb / less than 42.59%\n",
    "from typing import List\n",
    "def groupThePeople(groupSizes: List[int]) -> List[List[int]]:\n",
    "    dic = {k:[] for k in set(groupSizes)}\n",
    "    for idx,val in enumerate(groupSizes):\n",
    "        if val == 1:\n",
    "            dic[val].append([idx])\n",
    "        else:\n",
    "            dic[val].append(idx)\n",
    "    for k,v in dic.items():\n",
    "        idx = 0\n",
    "        tmp_ret = []\n",
    "        if k == 1:\n",
    "            for _ in range(len(v)):\n",
    "                tmp_ret.append(v[idx])\n",
    "                idx += k\n",
    "            dic[k] = tmp_ret\n",
    "        \n",
    "        elif k < len(v):      # 해당 키에 소속된 리스트가 키값보다 큰 경우\n",
    "            for _ in range(int(len(v)/k)):\n",
    "                tmp_ret.append(v[idx:idx+k])\n",
    "                idx += k\n",
    "            dic[k] = tmp_ret\n",
    "            \n",
    "    ret = []\n",
    "    for _,v in dic.items():\n",
    "        if type(v[0]) == int:\n",
    "            ret.append(v)\n",
    "        else:\n",
    "            ret.extend(v)\n",
    "\n",
    "    return ret"
   ]
  },
  {
   "cell_type": "code",
   "execution_count": null,
   "metadata": {},
   "outputs": [],
   "source": [
    "a = [3,3,3,3,3,1,3]\n",
    "groupThePeople(a)"
   ]
  },
  {
   "cell_type": "code",
   "execution_count": null,
   "metadata": {},
   "outputs": [],
   "source": [
    "b = [2,1,3,3,3,2]\n",
    "groupThePeople(b) # [[1],[0,5],[2,3,4]]"
   ]
  },
  {
   "cell_type": "code",
   "execution_count": null,
   "metadata": {},
   "outputs": [],
   "source": [
    "c = [3,3,3,3,3,1,3]\n",
    "groupThePeople(c)  # [[5],[0,1,2],[3,4,6]]"
   ]
  },
  {
   "cell_type": "code",
   "execution_count": null,
   "metadata": {},
   "outputs": [],
   "source": [
    "d = [2,2,1,1,1,1,1,1]\n",
    "groupThePeople(d)"
   ]
  }
 ],
 "metadata": {
  "kernelspec": {
   "display_name": "Python 3",
   "language": "python",
   "name": "python3"
  },
  "language_info": {
   "codemirror_mode": {
    "name": "ipython",
    "version": 3
   },
   "file_extension": ".py",
   "mimetype": "text/x-python",
   "name": "python",
   "nbconvert_exporter": "python",
   "pygments_lexer": "ipython3",
   "version": "3.8.5"
  }
 },
 "nbformat": 4,
 "nbformat_minor": 4
}
